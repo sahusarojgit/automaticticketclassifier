{
 "cells": [
  {
   "cell_type": "markdown",
   "metadata": {
    "id": "rhR-ZUkwJrFn"
   },
   "source": [
    "## Problem Statement \n",
    "\n",
    "You need to build a model that is able to classify customer complaints based on the products/services. By doing so, you can segregate these tickets into their relevant categories and, therefore, help in the quick resolution of the issue.\n",
    "\n",
    "You will be doing topic modelling on the <b>.json</b> data provided by the company. Since this data is not labelled, you need to apply NMF to analyse patterns and classify tickets into the following five clusters based on their products/services:\n",
    "\n",
    "* Credit card / Prepaid card\n",
    "\n",
    "* Bank account services\n",
    "\n",
    "* Theft/Dispute reporting\n",
    "\n",
    "* Mortgages/loans\n",
    "\n",
    "* Others \n",
    "\n",
    "\n",
    "With the help of topic modelling, you will be able to map each ticket onto its respective department/category. You can then use this data to train any supervised model such as logistic regression, decision tree or random forest. Using this trained model, you can classify any new customer complaint support ticket into its relevant department."
   ]
  },
  {
   "cell_type": "markdown",
   "metadata": {
    "id": "mcgXVNyaLUFS"
   },
   "source": [
    "## Pipelines that needs to be performed:\n",
    "\n",
    "You need to perform the following eight major tasks to complete the assignment:\n",
    "\n",
    "1.  Data loading\n",
    "\n",
    "2. Text preprocessing\n",
    "\n",
    "3. Exploratory data analysis (EDA)\n",
    "\n",
    "4. Feature extraction\n",
    "\n",
    "5. Topic modelling \n",
    "\n",
    "6. Model building using supervised learning\n",
    "\n",
    "7. Model training and evaluation\n",
    "\n",
    "8. Model inference"
   ]
  },
  {
   "cell_type": "markdown",
   "metadata": {
    "id": "JuLFIymAL58u"
   },
   "source": [
    "## Importing the necessary libraries"
   ]
  },
  {
   "cell_type": "code",
   "execution_count": 2,
   "metadata": {
    "id": "O-Q9pqrcJrFr"
   },
   "outputs": [],
   "source": [
    "import json \n",
    "import numpy as np\n",
    "import pandas as pd\n",
    "import re, nltk, spacy, string\n",
    "\n",
    "import seaborn as sns\n",
    "import matplotlib.pyplot as plt\n",
    "%matplotlib inline\n",
    "\n",
    "from plotly.offline import plot\n",
    "import plotly.graph_objects as go\n",
    "import plotly.express as px\n",
    "\n",
    "from sklearn.feature_extraction.text import CountVectorizer, TfidfVectorizer\n",
    "from pprint import pprint"
   ]
  },
  {
   "cell_type": "code",
   "execution_count": 3,
   "metadata": {},
   "outputs": [],
   "source": [
    "nlp = spacy.load(\"en_core_web_sm\")"
   ]
  },
  {
   "cell_type": "markdown",
   "metadata": {
    "id": "KtRLCsNVJrFt"
   },
   "source": [
    "## Loading the data\n",
    "\n",
    "The data is in JSON format and we need to convert it to a dataframe."
   ]
  },
  {
   "cell_type": "code",
   "execution_count": 4,
   "metadata": {},
   "outputs": [
    {
     "name": "stdout",
     "output_type": "stream",
     "text": [
      "                    _index      _type      _id  _score  \\\n",
      "0      complaint-public-v2  complaint  3211475       0   \n",
      "1      complaint-public-v2  complaint  3229299       0   \n",
      "2      complaint-public-v2  complaint  3199379       0   \n",
      "3      complaint-public-v2  complaint  2673060       0   \n",
      "4      complaint-public-v2  complaint  3203545       0   \n",
      "...                    ...        ...      ...     ...   \n",
      "78308  complaint-public-v2  complaint  3105617       0   \n",
      "78309  complaint-public-v2  complaint  3091984       0   \n",
      "78310  complaint-public-v2  complaint  3133355       0   \n",
      "78311  complaint-public-v2  complaint  3110963       0   \n",
      "78312  complaint-public-v2  complaint  2001189       0   \n",
      "\n",
      "                                                 _source  \n",
      "0      {'tags': None, 'zip_code': '90301', 'complaint...  \n",
      "1      {'tags': 'Servicemember', 'zip_code': '319XX',...  \n",
      "2      {'tags': None, 'zip_code': '77069', 'complaint...  \n",
      "3      {'tags': None, 'zip_code': '48066', 'complaint...  \n",
      "4      {'tags': None, 'zip_code': '10473', 'complaint...  \n",
      "...                                                  ...  \n",
      "78308  {'tags': None, 'zip_code': '08857', 'complaint...  \n",
      "78309  {'tags': None, 'zip_code': '934XX', 'complaint...  \n",
      "78310  {'tags': None, 'zip_code': '923XX', 'complaint...  \n",
      "78311  {'tags': None, 'zip_code': None, 'complaint_id...  \n",
      "78312  {'tags': None, 'zip_code': None, 'complaint_id...  \n",
      "\n",
      "[78313 rows x 5 columns]\n"
     ]
    }
   ],
   "source": [
    "json_pd = pd.read_json(\"./complaints-2021-05-14_08_16.json\")\n",
    "print(json_pd)"
   ]
  },
  {
   "cell_type": "code",
   "execution_count": 5,
   "metadata": {},
   "outputs": [
    {
     "data": {
      "text/html": [
       "<div>\n",
       "<style scoped>\n",
       "    .dataframe tbody tr th:only-of-type {\n",
       "        vertical-align: middle;\n",
       "    }\n",
       "\n",
       "    .dataframe tbody tr th {\n",
       "        vertical-align: top;\n",
       "    }\n",
       "\n",
       "    .dataframe thead th {\n",
       "        text-align: right;\n",
       "    }\n",
       "</style>\n",
       "<table border=\"1\" class=\"dataframe\">\n",
       "  <thead>\n",
       "    <tr style=\"text-align: right;\">\n",
       "      <th></th>\n",
       "      <th>_index</th>\n",
       "      <th>_type</th>\n",
       "      <th>_id</th>\n",
       "      <th>_score</th>\n",
       "      <th>_source</th>\n",
       "    </tr>\n",
       "  </thead>\n",
       "  <tbody>\n",
       "    <tr>\n",
       "      <th>0</th>\n",
       "      <td>complaint-public-v2</td>\n",
       "      <td>complaint</td>\n",
       "      <td>3211475</td>\n",
       "      <td>0</td>\n",
       "      <td>{'tags': None, 'zip_code': '90301', 'complaint...</td>\n",
       "    </tr>\n",
       "    <tr>\n",
       "      <th>1</th>\n",
       "      <td>complaint-public-v2</td>\n",
       "      <td>complaint</td>\n",
       "      <td>3229299</td>\n",
       "      <td>0</td>\n",
       "      <td>{'tags': 'Servicemember', 'zip_code': '319XX',...</td>\n",
       "    </tr>\n",
       "    <tr>\n",
       "      <th>2</th>\n",
       "      <td>complaint-public-v2</td>\n",
       "      <td>complaint</td>\n",
       "      <td>3199379</td>\n",
       "      <td>0</td>\n",
       "      <td>{'tags': None, 'zip_code': '77069', 'complaint...</td>\n",
       "    </tr>\n",
       "    <tr>\n",
       "      <th>3</th>\n",
       "      <td>complaint-public-v2</td>\n",
       "      <td>complaint</td>\n",
       "      <td>2673060</td>\n",
       "      <td>0</td>\n",
       "      <td>{'tags': None, 'zip_code': '48066', 'complaint...</td>\n",
       "    </tr>\n",
       "    <tr>\n",
       "      <th>4</th>\n",
       "      <td>complaint-public-v2</td>\n",
       "      <td>complaint</td>\n",
       "      <td>3203545</td>\n",
       "      <td>0</td>\n",
       "      <td>{'tags': None, 'zip_code': '10473', 'complaint...</td>\n",
       "    </tr>\n",
       "  </tbody>\n",
       "</table>\n",
       "</div>"
      ],
      "text/plain": [
       "                _index      _type      _id  _score  \\\n",
       "0  complaint-public-v2  complaint  3211475       0   \n",
       "1  complaint-public-v2  complaint  3229299       0   \n",
       "2  complaint-public-v2  complaint  3199379       0   \n",
       "3  complaint-public-v2  complaint  2673060       0   \n",
       "4  complaint-public-v2  complaint  3203545       0   \n",
       "\n",
       "                                             _source  \n",
       "0  {'tags': None, 'zip_code': '90301', 'complaint...  \n",
       "1  {'tags': 'Servicemember', 'zip_code': '319XX',...  \n",
       "2  {'tags': None, 'zip_code': '77069', 'complaint...  \n",
       "3  {'tags': None, 'zip_code': '48066', 'complaint...  \n",
       "4  {'tags': None, 'zip_code': '10473', 'complaint...  "
      ]
     },
     "execution_count": 5,
     "metadata": {},
     "output_type": "execute_result"
    }
   ],
   "source": [
    "df_main = pd.DataFrame(json_pd)\n",
    "df_main.head()"
   ]
  },
  {
   "cell_type": "code",
   "execution_count": 6,
   "metadata": {},
   "outputs": [
    {
     "data": {
      "text/plain": [
       "{'tags': None,\n",
       " 'zip_code': '90301',\n",
       " 'complaint_id': '3211475',\n",
       " 'issue': 'Attempts to collect debt not owed',\n",
       " 'date_received': '2019-04-13T12:00:00-05:00',\n",
       " 'state': 'CA',\n",
       " 'consumer_disputed': 'N/A',\n",
       " 'product': 'Debt collection',\n",
       " 'company_response': 'Closed with explanation',\n",
       " 'company': 'JPMORGAN CHASE & CO.',\n",
       " 'submitted_via': 'Web',\n",
       " 'date_sent_to_company': '2019-04-13T12:00:00-05:00',\n",
       " 'company_public_response': None,\n",
       " 'sub_product': 'Credit card debt',\n",
       " 'timely': 'Yes',\n",
       " 'complaint_what_happened': '',\n",
       " 'sub_issue': 'Debt is not yours',\n",
       " 'consumer_consent_provided': 'Consent not provided'}"
      ]
     },
     "execution_count": 6,
     "metadata": {},
     "output_type": "execute_result"
    }
   ],
   "source": [
    "df_main[\"_source\"][0]"
   ]
  },
  {
   "cell_type": "code",
   "execution_count": 7,
   "metadata": {},
   "outputs": [],
   "source": [
    "df_main = pd.concat([df_main, pd.json_normalize(df_main[\"_source\"])], axis = 1)"
   ]
  },
  {
   "cell_type": "code",
   "execution_count": 8,
   "metadata": {},
   "outputs": [],
   "source": [
    "df_main.drop([\"_source\"], inplace=True, axis=1)"
   ]
  },
  {
   "cell_type": "markdown",
   "metadata": {
    "id": "_xYpH-sAJrFu"
   },
   "source": [
    "## Data preparation"
   ]
  },
  {
   "cell_type": "code",
   "execution_count": 9,
   "metadata": {
    "id": "Lf8ufHH5JrFu"
   },
   "outputs": [
    {
     "name": "stdout",
     "output_type": "stream",
     "text": [
      "<class 'pandas.core.frame.DataFrame'>\n",
      "RangeIndex: 78313 entries, 0 to 78312\n",
      "Data columns (total 22 columns):\n",
      " #   Column                     Non-Null Count  Dtype \n",
      "---  ------                     --------------  ----- \n",
      " 0   _index                     78313 non-null  object\n",
      " 1   _type                      78313 non-null  object\n",
      " 2   _id                        78313 non-null  int64 \n",
      " 3   _score                     78313 non-null  int64 \n",
      " 4   tags                       10900 non-null  object\n",
      " 5   zip_code                   71556 non-null  object\n",
      " 6   complaint_id               78313 non-null  object\n",
      " 7   issue                      78313 non-null  object\n",
      " 8   date_received              78313 non-null  object\n",
      " 9   state                      76322 non-null  object\n",
      " 10  consumer_disputed          78313 non-null  object\n",
      " 11  product                    78313 non-null  object\n",
      " 12  company_response           78313 non-null  object\n",
      " 13  company                    78313 non-null  object\n",
      " 14  submitted_via              78313 non-null  object\n",
      " 15  date_sent_to_company       78313 non-null  object\n",
      " 16  company_public_response    4 non-null      object\n",
      " 17  sub_product                67742 non-null  object\n",
      " 18  timely                     78313 non-null  object\n",
      " 19  complaint_what_happened    78313 non-null  object\n",
      " 20  sub_issue                  32016 non-null  object\n",
      " 21  consumer_consent_provided  77305 non-null  object\n",
      "dtypes: int64(2), object(20)\n",
      "memory usage: 13.1+ MB\n"
     ]
    }
   ],
   "source": [
    "# Inspect the dataframe to understand the given data.\n",
    "df_main.info()"
   ]
  },
  {
   "cell_type": "code",
   "execution_count": 10,
   "metadata": {},
   "outputs": [
    {
     "data": {
      "text/plain": [
       "(78313, 22)"
      ]
     },
     "execution_count": 10,
     "metadata": {},
     "output_type": "execute_result"
    }
   ],
   "source": [
    "df_main.shape"
   ]
  },
  {
   "cell_type": "code",
   "execution_count": 11,
   "metadata": {
    "id": "Dwcty-wmJrFw"
   },
   "outputs": [
    {
     "data": {
      "text/plain": [
       "Index(['_index', '_type', '_id', '_score', 'tags', 'zip_code', 'complaint_id',\n",
       "       'issue', 'date_received', 'state', 'consumer_disputed', 'product',\n",
       "       'company_response', 'company', 'submitted_via', 'date_sent_to_company',\n",
       "       'company_public_response', 'sub_product', 'timely',\n",
       "       'complaint_what_happened', 'sub_issue', 'consumer_consent_provided'],\n",
       "      dtype='object')"
      ]
     },
     "execution_count": 11,
     "metadata": {},
     "output_type": "execute_result"
    }
   ],
   "source": [
    "#print the column names\n",
    "df_main.columns"
   ]
  },
  {
   "cell_type": "code",
   "execution_count": 12,
   "metadata": {},
   "outputs": [
    {
     "data": {
      "text/plain": [
       "_index                           0\n",
       "_type                            0\n",
       "_id                              0\n",
       "_score                           0\n",
       "tags                         67413\n",
       "zip_code                      6757\n",
       "complaint_id                     0\n",
       "issue                            0\n",
       "date_received                    0\n",
       "state                         1991\n",
       "consumer_disputed                0\n",
       "product                          0\n",
       "company_response                 0\n",
       "company                          0\n",
       "submitted_via                    0\n",
       "date_sent_to_company             0\n",
       "company_public_response      78309\n",
       "sub_product                  10571\n",
       "timely                           0\n",
       "complaint_what_happened          0\n",
       "sub_issue                    46297\n",
       "consumer_consent_provided     1008\n",
       "dtype: int64"
      ]
     },
     "execution_count": 12,
     "metadata": {},
     "output_type": "execute_result"
    }
   ],
   "source": [
    "df_main.isna().sum()"
   ]
  },
  {
   "cell_type": "code",
   "execution_count": 13,
   "metadata": {},
   "outputs": [
    {
     "data": {
      "text/html": [
       "<div>\n",
       "<style scoped>\n",
       "    .dataframe tbody tr th:only-of-type {\n",
       "        vertical-align: middle;\n",
       "    }\n",
       "\n",
       "    .dataframe tbody tr th {\n",
       "        vertical-align: top;\n",
       "    }\n",
       "\n",
       "    .dataframe thead th {\n",
       "        text-align: right;\n",
       "    }\n",
       "</style>\n",
       "<table border=\"1\" class=\"dataframe\">\n",
       "  <thead>\n",
       "    <tr style=\"text-align: right;\">\n",
       "      <th></th>\n",
       "      <th>_index</th>\n",
       "      <th>_type</th>\n",
       "      <th>_id</th>\n",
       "      <th>_score</th>\n",
       "      <th>tags</th>\n",
       "      <th>zip_code</th>\n",
       "      <th>complaint_id</th>\n",
       "      <th>issue</th>\n",
       "      <th>date_received</th>\n",
       "      <th>state</th>\n",
       "      <th>...</th>\n",
       "      <th>company_response</th>\n",
       "      <th>company</th>\n",
       "      <th>submitted_via</th>\n",
       "      <th>date_sent_to_company</th>\n",
       "      <th>company_public_response</th>\n",
       "      <th>sub_product</th>\n",
       "      <th>timely</th>\n",
       "      <th>complaint_what_happened</th>\n",
       "      <th>sub_issue</th>\n",
       "      <th>consumer_consent_provided</th>\n",
       "    </tr>\n",
       "  </thead>\n",
       "  <tbody>\n",
       "    <tr>\n",
       "      <th>0</th>\n",
       "      <td>complaint-public-v2</td>\n",
       "      <td>complaint</td>\n",
       "      <td>3211475</td>\n",
       "      <td>0</td>\n",
       "      <td>None</td>\n",
       "      <td>90301</td>\n",
       "      <td>3211475</td>\n",
       "      <td>Attempts to collect debt not owed</td>\n",
       "      <td>2019-04-13T12:00:00-05:00</td>\n",
       "      <td>CA</td>\n",
       "      <td>...</td>\n",
       "      <td>Closed with explanation</td>\n",
       "      <td>JPMORGAN CHASE &amp; CO.</td>\n",
       "      <td>Web</td>\n",
       "      <td>2019-04-13T12:00:00-05:00</td>\n",
       "      <td>None</td>\n",
       "      <td>Credit card debt</td>\n",
       "      <td>Yes</td>\n",
       "      <td></td>\n",
       "      <td>Debt is not yours</td>\n",
       "      <td>Consent not provided</td>\n",
       "    </tr>\n",
       "    <tr>\n",
       "      <th>1</th>\n",
       "      <td>complaint-public-v2</td>\n",
       "      <td>complaint</td>\n",
       "      <td>3229299</td>\n",
       "      <td>0</td>\n",
       "      <td>Servicemember</td>\n",
       "      <td>319XX</td>\n",
       "      <td>3229299</td>\n",
       "      <td>Written notification about debt</td>\n",
       "      <td>2019-05-01T12:00:00-05:00</td>\n",
       "      <td>GA</td>\n",
       "      <td>...</td>\n",
       "      <td>Closed with explanation</td>\n",
       "      <td>JPMORGAN CHASE &amp; CO.</td>\n",
       "      <td>Web</td>\n",
       "      <td>2019-05-01T12:00:00-05:00</td>\n",
       "      <td>None</td>\n",
       "      <td>Credit card debt</td>\n",
       "      <td>Yes</td>\n",
       "      <td>Good morning my name is XXXX XXXX and I apprec...</td>\n",
       "      <td>Didn't receive enough information to verify debt</td>\n",
       "      <td>Consent provided</td>\n",
       "    </tr>\n",
       "    <tr>\n",
       "      <th>2</th>\n",
       "      <td>complaint-public-v2</td>\n",
       "      <td>complaint</td>\n",
       "      <td>3199379</td>\n",
       "      <td>0</td>\n",
       "      <td>None</td>\n",
       "      <td>77069</td>\n",
       "      <td>3199379</td>\n",
       "      <td>Other features, terms, or problems</td>\n",
       "      <td>2019-04-02T12:00:00-05:00</td>\n",
       "      <td>TX</td>\n",
       "      <td>...</td>\n",
       "      <td>Closed with explanation</td>\n",
       "      <td>JPMORGAN CHASE &amp; CO.</td>\n",
       "      <td>Web</td>\n",
       "      <td>2019-04-02T12:00:00-05:00</td>\n",
       "      <td>None</td>\n",
       "      <td>General-purpose credit card or charge card</td>\n",
       "      <td>Yes</td>\n",
       "      <td>I upgraded my XXXX XXXX card in XX/XX/2018 and...</td>\n",
       "      <td>Problem with rewards from credit card</td>\n",
       "      <td>Consent provided</td>\n",
       "    </tr>\n",
       "    <tr>\n",
       "      <th>3</th>\n",
       "      <td>complaint-public-v2</td>\n",
       "      <td>complaint</td>\n",
       "      <td>2673060</td>\n",
       "      <td>0</td>\n",
       "      <td>None</td>\n",
       "      <td>48066</td>\n",
       "      <td>2673060</td>\n",
       "      <td>Trouble during payment process</td>\n",
       "      <td>2017-09-13T12:00:00-05:00</td>\n",
       "      <td>MI</td>\n",
       "      <td>...</td>\n",
       "      <td>Closed with explanation</td>\n",
       "      <td>JPMORGAN CHASE &amp; CO.</td>\n",
       "      <td>Web</td>\n",
       "      <td>2017-09-14T12:00:00-05:00</td>\n",
       "      <td>None</td>\n",
       "      <td>Conventional home mortgage</td>\n",
       "      <td>Yes</td>\n",
       "      <td></td>\n",
       "      <td>None</td>\n",
       "      <td>Consent not provided</td>\n",
       "    </tr>\n",
       "    <tr>\n",
       "      <th>4</th>\n",
       "      <td>complaint-public-v2</td>\n",
       "      <td>complaint</td>\n",
       "      <td>3203545</td>\n",
       "      <td>0</td>\n",
       "      <td>None</td>\n",
       "      <td>10473</td>\n",
       "      <td>3203545</td>\n",
       "      <td>Fees or interest</td>\n",
       "      <td>2019-04-05T12:00:00-05:00</td>\n",
       "      <td>NY</td>\n",
       "      <td>...</td>\n",
       "      <td>Closed with explanation</td>\n",
       "      <td>JPMORGAN CHASE &amp; CO.</td>\n",
       "      <td>Referral</td>\n",
       "      <td>2019-04-05T12:00:00-05:00</td>\n",
       "      <td>None</td>\n",
       "      <td>General-purpose credit card or charge card</td>\n",
       "      <td>Yes</td>\n",
       "      <td></td>\n",
       "      <td>Charged too much interest</td>\n",
       "      <td>N/A</td>\n",
       "    </tr>\n",
       "  </tbody>\n",
       "</table>\n",
       "<p>5 rows × 22 columns</p>\n",
       "</div>"
      ],
      "text/plain": [
       "                _index      _type      _id  _score           tags zip_code  \\\n",
       "0  complaint-public-v2  complaint  3211475       0           None    90301   \n",
       "1  complaint-public-v2  complaint  3229299       0  Servicemember    319XX   \n",
       "2  complaint-public-v2  complaint  3199379       0           None    77069   \n",
       "3  complaint-public-v2  complaint  2673060       0           None    48066   \n",
       "4  complaint-public-v2  complaint  3203545       0           None    10473   \n",
       "\n",
       "  complaint_id                               issue              date_received  \\\n",
       "0      3211475   Attempts to collect debt not owed  2019-04-13T12:00:00-05:00   \n",
       "1      3229299     Written notification about debt  2019-05-01T12:00:00-05:00   \n",
       "2      3199379  Other features, terms, or problems  2019-04-02T12:00:00-05:00   \n",
       "3      2673060      Trouble during payment process  2017-09-13T12:00:00-05:00   \n",
       "4      3203545                    Fees or interest  2019-04-05T12:00:00-05:00   \n",
       "\n",
       "  state  ...         company_response               company submitted_via  \\\n",
       "0    CA  ...  Closed with explanation  JPMORGAN CHASE & CO.           Web   \n",
       "1    GA  ...  Closed with explanation  JPMORGAN CHASE & CO.           Web   \n",
       "2    TX  ...  Closed with explanation  JPMORGAN CHASE & CO.           Web   \n",
       "3    MI  ...  Closed with explanation  JPMORGAN CHASE & CO.           Web   \n",
       "4    NY  ...  Closed with explanation  JPMORGAN CHASE & CO.      Referral   \n",
       "\n",
       "        date_sent_to_company company_public_response  \\\n",
       "0  2019-04-13T12:00:00-05:00                    None   \n",
       "1  2019-05-01T12:00:00-05:00                    None   \n",
       "2  2019-04-02T12:00:00-05:00                    None   \n",
       "3  2017-09-14T12:00:00-05:00                    None   \n",
       "4  2019-04-05T12:00:00-05:00                    None   \n",
       "\n",
       "                                  sub_product timely  \\\n",
       "0                            Credit card debt    Yes   \n",
       "1                            Credit card debt    Yes   \n",
       "2  General-purpose credit card or charge card    Yes   \n",
       "3                  Conventional home mortgage    Yes   \n",
       "4  General-purpose credit card or charge card    Yes   \n",
       "\n",
       "                             complaint_what_happened  \\\n",
       "0                                                      \n",
       "1  Good morning my name is XXXX XXXX and I apprec...   \n",
       "2  I upgraded my XXXX XXXX card in XX/XX/2018 and...   \n",
       "3                                                      \n",
       "4                                                      \n",
       "\n",
       "                                          sub_issue consumer_consent_provided  \n",
       "0                                 Debt is not yours      Consent not provided  \n",
       "1  Didn't receive enough information to verify debt          Consent provided  \n",
       "2             Problem with rewards from credit card          Consent provided  \n",
       "3                                              None      Consent not provided  \n",
       "4                         Charged too much interest                       N/A  \n",
       "\n",
       "[5 rows x 22 columns]"
      ]
     },
     "execution_count": 13,
     "metadata": {},
     "output_type": "execute_result"
    }
   ],
   "source": [
    "df_main.head()"
   ]
  },
  {
   "cell_type": "code",
   "execution_count": 14,
   "metadata": {
    "id": "FYCtKXD1JrFw"
   },
   "outputs": [],
   "source": [
    "#Assign new column names\n",
    "df_main.columns = ['index', 'type', 'id', 'score', 'tags', 'zip_code', 'complaint_id',\n",
    "       'issue', 'date_received', 'state', 'consumer_disputed', 'product',\n",
    "       'company_response', 'company', 'submitted_via', 'date_sent_to_company',\n",
    "       'company_public_response', 'sub_product', 'timely',\n",
    "       'complaint_what_happened', 'sub_issue', 'consumer_consent_provided']"
   ]
  },
  {
   "cell_type": "code",
   "execution_count": 15,
   "metadata": {},
   "outputs": [
    {
     "data": {
      "text/plain": [
       "index                            0\n",
       "type                             0\n",
       "id                               0\n",
       "score                            0\n",
       "tags                         67413\n",
       "zip_code                      6757\n",
       "complaint_id                     0\n",
       "issue                            0\n",
       "date_received                    0\n",
       "state                         1991\n",
       "consumer_disputed                0\n",
       "product                          0\n",
       "company_response                 0\n",
       "company                          0\n",
       "submitted_via                    0\n",
       "date_sent_to_company             0\n",
       "company_public_response      78309\n",
       "sub_product                  10571\n",
       "timely                           0\n",
       "complaint_what_happened          0\n",
       "sub_issue                    46297\n",
       "consumer_consent_provided     1008\n",
       "dtype: int64"
      ]
     },
     "execution_count": 15,
     "metadata": {},
     "output_type": "execute_result"
    }
   ],
   "source": [
    "df_main.isna().sum()"
   ]
  },
  {
   "cell_type": "code",
   "execution_count": null,
   "metadata": {},
   "outputs": [],
   "source": []
  },
  {
   "cell_type": "code",
   "execution_count": null,
   "metadata": {},
   "outputs": [],
   "source": []
  },
  {
   "cell_type": "code",
   "execution_count": 16,
   "metadata": {
    "id": "grQUPFL5JrFx"
   },
   "outputs": [],
   "source": [
    "#Assign nan in place of blanks in the complaints column\n",
    "df_main[df_main.loc[:, 'complaint_what_happened']=='']=np.nan"
   ]
  },
  {
   "cell_type": "code",
   "execution_count": 17,
   "metadata": {
    "id": "Jfxd8VSmJrFy"
   },
   "outputs": [],
   "source": [
    "#Remove all rows where complaints column is nan\n",
    "df_main = df_main[~df_main['complaint_what_happened'].isnull()]"
   ]
  },
  {
   "cell_type": "code",
   "execution_count": 18,
   "metadata": {},
   "outputs": [
    {
     "data": {
      "text/plain": [
       "(21072, 22)"
      ]
     },
     "execution_count": 18,
     "metadata": {},
     "output_type": "execute_result"
    }
   ],
   "source": [
    "df_main.shape"
   ]
  },
  {
   "cell_type": "markdown",
   "metadata": {
    "id": "L944HZpsJrFy"
   },
   "source": [
    "## Prepare the text for topic modeling\n",
    "\n",
    "Once you have removed all the blank complaints, you need to:\n",
    "\n",
    "* Make the text lowercase\n",
    "* Remove text in square brackets\n",
    "* Remove punctuation\n",
    "* Remove words containing numbers\n",
    "\n",
    "\n",
    "Once you have done these cleaning operations you need to perform the following:\n",
    "* Lemmatize the texts\n",
    "* Extract the POS tags of the lemmatized text and remove all the words which have tags other than NN[tag == \"NN\"].\n"
   ]
  },
  {
   "cell_type": "code",
   "execution_count": 19,
   "metadata": {},
   "outputs": [],
   "source": [
    "def cleanText(text):\n",
    "    text = text.lower()\n",
    "    pattern = \"[^\\\\w\\\\s]\"\n",
    "    text = re.sub(pattern, '', text)\n",
    "    pattern = \"\\\\w*\\\\d\\\\w*\"\n",
    "    text = re.sub(pattern, '', text)\n",
    "    return text"
   ]
  },
  {
   "cell_type": "code",
   "execution_count": 20,
   "metadata": {
    "id": "qm7SjjSkJrFz"
   },
   "outputs": [],
   "source": [
    "# Write your function here to clean the text and remove all the unnecessary elements.\n",
    "df_main_clean = pd.DataFrame(df_main['complaint_what_happened'].apply(cleanText))"
   ]
  },
  {
   "cell_type": "code",
   "execution_count": 21,
   "metadata": {},
   "outputs": [
    {
     "data": {
      "text/html": [
       "<div>\n",
       "<style scoped>\n",
       "    .dataframe tbody tr th:only-of-type {\n",
       "        vertical-align: middle;\n",
       "    }\n",
       "\n",
       "    .dataframe tbody tr th {\n",
       "        vertical-align: top;\n",
       "    }\n",
       "\n",
       "    .dataframe thead th {\n",
       "        text-align: right;\n",
       "    }\n",
       "</style>\n",
       "<table border=\"1\" class=\"dataframe\">\n",
       "  <thead>\n",
       "    <tr style=\"text-align: right;\">\n",
       "      <th></th>\n",
       "      <th>complaint_what_happened</th>\n",
       "    </tr>\n",
       "  </thead>\n",
       "  <tbody>\n",
       "    <tr>\n",
       "      <th>1</th>\n",
       "      <td>good morning my name is xxxx xxxx and i apprec...</td>\n",
       "    </tr>\n",
       "    <tr>\n",
       "      <th>2</th>\n",
       "      <td>i upgraded my xxxx xxxx card in  and was told ...</td>\n",
       "    </tr>\n",
       "    <tr>\n",
       "      <th>10</th>\n",
       "      <td>chase card was reported on  however fraudulent...</td>\n",
       "    </tr>\n",
       "    <tr>\n",
       "      <th>11</th>\n",
       "      <td>on  while trying to book a xxxx  xxxx  ticket ...</td>\n",
       "    </tr>\n",
       "    <tr>\n",
       "      <th>14</th>\n",
       "      <td>my grand son give me check for  i deposit it i...</td>\n",
       "    </tr>\n",
       "    <tr>\n",
       "      <th>...</th>\n",
       "      <td>...</td>\n",
       "    </tr>\n",
       "    <tr>\n",
       "      <th>78303</th>\n",
       "      <td>after being a chase card customer for well ove...</td>\n",
       "    </tr>\n",
       "    <tr>\n",
       "      <th>78309</th>\n",
       "      <td>on wednesday xxxxxxxx i called chas my xxxx xx...</td>\n",
       "    </tr>\n",
       "    <tr>\n",
       "      <th>78310</th>\n",
       "      <td>i am not familiar with xxxx pay and did not un...</td>\n",
       "    </tr>\n",
       "    <tr>\n",
       "      <th>78311</th>\n",
       "      <td>i have had flawless credit for  yrs ive had ch...</td>\n",
       "    </tr>\n",
       "    <tr>\n",
       "      <th>78312</th>\n",
       "      <td>roughly  years ago i closed out my accounts wi...</td>\n",
       "    </tr>\n",
       "  </tbody>\n",
       "</table>\n",
       "<p>21072 rows × 1 columns</p>\n",
       "</div>"
      ],
      "text/plain": [
       "                                 complaint_what_happened\n",
       "1      good morning my name is xxxx xxxx and i apprec...\n",
       "2      i upgraded my xxxx xxxx card in  and was told ...\n",
       "10     chase card was reported on  however fraudulent...\n",
       "11     on  while trying to book a xxxx  xxxx  ticket ...\n",
       "14     my grand son give me check for  i deposit it i...\n",
       "...                                                  ...\n",
       "78303  after being a chase card customer for well ove...\n",
       "78309  on wednesday xxxxxxxx i called chas my xxxx xx...\n",
       "78310  i am not familiar with xxxx pay and did not un...\n",
       "78311  i have had flawless credit for  yrs ive had ch...\n",
       "78312  roughly  years ago i closed out my accounts wi...\n",
       "\n",
       "[21072 rows x 1 columns]"
      ]
     },
     "execution_count": 21,
     "metadata": {},
     "output_type": "execute_result"
    }
   ],
   "source": [
    "df_main_clean"
   ]
  },
  {
   "cell_type": "code",
   "execution_count": 22,
   "metadata": {
    "id": "zgOu8t8HJrFz"
   },
   "outputs": [],
   "source": [
    "#Write your function to Lemmatize the texts\n",
    "def lemmatize_text(text):\n",
    "    temp = []\n",
    "    nlp_txt = nlp(text)\n",
    "    for token in nlp_txt:\n",
    "        temp.append(token.lemma_)\n",
    "    return \" \".join(temp)"
   ]
  },
  {
   "cell_type": "code",
   "execution_count": 23,
   "metadata": {},
   "outputs": [
    {
     "data": {
      "text/html": [
       "<div>\n",
       "<style scoped>\n",
       "    .dataframe tbody tr th:only-of-type {\n",
       "        vertical-align: middle;\n",
       "    }\n",
       "\n",
       "    .dataframe tbody tr th {\n",
       "        vertical-align: top;\n",
       "    }\n",
       "\n",
       "    .dataframe thead th {\n",
       "        text-align: right;\n",
       "    }\n",
       "</style>\n",
       "<table border=\"1\" class=\"dataframe\">\n",
       "  <thead>\n",
       "    <tr style=\"text-align: right;\">\n",
       "      <th></th>\n",
       "      <th>complaint_what_happened</th>\n",
       "    </tr>\n",
       "  </thead>\n",
       "  <tbody>\n",
       "    <tr>\n",
       "      <th>1</th>\n",
       "      <td>good morning my name is xxxx xxxx and i apprec...</td>\n",
       "    </tr>\n",
       "    <tr>\n",
       "      <th>2</th>\n",
       "      <td>i upgraded my xxxx xxxx card in  and was told ...</td>\n",
       "    </tr>\n",
       "    <tr>\n",
       "      <th>10</th>\n",
       "      <td>chase card was reported on  however fraudulent...</td>\n",
       "    </tr>\n",
       "    <tr>\n",
       "      <th>11</th>\n",
       "      <td>on  while trying to book a xxxx  xxxx  ticket ...</td>\n",
       "    </tr>\n",
       "    <tr>\n",
       "      <th>14</th>\n",
       "      <td>my grand son give me check for  i deposit it i...</td>\n",
       "    </tr>\n",
       "  </tbody>\n",
       "</table>\n",
       "</div>"
      ],
      "text/plain": [
       "                              complaint_what_happened\n",
       "1   good morning my name is xxxx xxxx and i apprec...\n",
       "2   i upgraded my xxxx xxxx card in  and was told ...\n",
       "10  chase card was reported on  however fraudulent...\n",
       "11  on  while trying to book a xxxx  xxxx  ticket ...\n",
       "14  my grand son give me check for  i deposit it i..."
      ]
     },
     "execution_count": 23,
     "metadata": {},
     "output_type": "execute_result"
    }
   ],
   "source": [
    "df_main_clean.head()"
   ]
  },
  {
   "cell_type": "code",
   "execution_count": 24,
   "metadata": {
    "id": "uXnN7aa_JrF0"
   },
   "outputs": [],
   "source": [
    "#Create a dataframe('df_clean') that will have only the complaints and the lemmatized complaints \n",
    "df_main_clean[\"complaint_lemmatized\"] = df_main_clean[\"complaint_what_happened\"].apply(lemmatize_text)"
   ]
  },
  {
   "cell_type": "code",
   "execution_count": 25,
   "metadata": {
    "id": "nOiDVvEIJrF0"
   },
   "outputs": [
    {
     "data": {
      "text/html": [
       "<div>\n",
       "<style scoped>\n",
       "    .dataframe tbody tr th:only-of-type {\n",
       "        vertical-align: middle;\n",
       "    }\n",
       "\n",
       "    .dataframe tbody tr th {\n",
       "        vertical-align: top;\n",
       "    }\n",
       "\n",
       "    .dataframe thead th {\n",
       "        text-align: right;\n",
       "    }\n",
       "</style>\n",
       "<table border=\"1\" class=\"dataframe\">\n",
       "  <thead>\n",
       "    <tr style=\"text-align: right;\">\n",
       "      <th></th>\n",
       "      <th>complaint_what_happened</th>\n",
       "      <th>complaint_lemmatized</th>\n",
       "    </tr>\n",
       "  </thead>\n",
       "  <tbody>\n",
       "    <tr>\n",
       "      <th>1</th>\n",
       "      <td>good morning my name is xxxx xxxx and i apprec...</td>\n",
       "      <td>good morning my name be xxxx xxxx and I apprec...</td>\n",
       "    </tr>\n",
       "    <tr>\n",
       "      <th>2</th>\n",
       "      <td>i upgraded my xxxx xxxx card in  and was told ...</td>\n",
       "      <td>I upgrade my xxxx xxxx card in   and be tell b...</td>\n",
       "    </tr>\n",
       "    <tr>\n",
       "      <th>10</th>\n",
       "      <td>chase card was reported on  however fraudulent...</td>\n",
       "      <td>chase card be report on   however fraudulent a...</td>\n",
       "    </tr>\n",
       "    <tr>\n",
       "      <th>11</th>\n",
       "      <td>on  while trying to book a xxxx  xxxx  ticket ...</td>\n",
       "      <td>on   while try to book a xxxx   xxxx   ticket ...</td>\n",
       "    </tr>\n",
       "    <tr>\n",
       "      <th>14</th>\n",
       "      <td>my grand son give me check for  i deposit it i...</td>\n",
       "      <td>my grand son give I check for   I deposit it i...</td>\n",
       "    </tr>\n",
       "  </tbody>\n",
       "</table>\n",
       "</div>"
      ],
      "text/plain": [
       "                              complaint_what_happened  \\\n",
       "1   good morning my name is xxxx xxxx and i apprec...   \n",
       "2   i upgraded my xxxx xxxx card in  and was told ...   \n",
       "10  chase card was reported on  however fraudulent...   \n",
       "11  on  while trying to book a xxxx  xxxx  ticket ...   \n",
       "14  my grand son give me check for  i deposit it i...   \n",
       "\n",
       "                                 complaint_lemmatized  \n",
       "1   good morning my name be xxxx xxxx and I apprec...  \n",
       "2   I upgrade my xxxx xxxx card in   and be tell b...  \n",
       "10  chase card be report on   however fraudulent a...  \n",
       "11  on   while try to book a xxxx   xxxx   ticket ...  \n",
       "14  my grand son give I check for   I deposit it i...  "
      ]
     },
     "execution_count": 25,
     "metadata": {},
     "output_type": "execute_result"
    }
   ],
   "source": [
    "df_main_clean.head()"
   ]
  },
  {
   "cell_type": "code",
   "execution_count": 26,
   "metadata": {},
   "outputs": [
    {
     "name": "stdout",
     "output_type": "stream",
     "text": [
      "I\n",
      "upgrade\n",
      "my\n",
      "xxxx\n",
      "xxxx\n",
      "card\n",
      "in\n",
      "and\n",
      "be\n",
      "tell\n"
     ]
    }
   ],
   "source": [
    "x = \"I upgrade my xxxx xxxx card in and be tell \"\n",
    "for x in nlp(x):\n",
    "    print(x.text)"
   ]
  },
  {
   "cell_type": "code",
   "execution_count": 27,
   "metadata": {
    "id": "Kk7fc4DuJrF1"
   },
   "outputs": [],
   "source": [
    "#Write your function to extract the POS tags \n",
    "\n",
    "def pos_tag(text):\n",
    "    temp = []\n",
    "    nlp_text = nlp(text)\n",
    "    temp = [term.text for term in nlp_text if term.tag_=='NN']\n",
    "    return \" \".join(temp)\n",
    "\n",
    "df_main_clean[\"complaint_POS_removed\"] =  df_main_clean[\"complaint_lemmatized\"].apply(pos_tag)\n"
   ]
  },
  {
   "cell_type": "code",
   "execution_count": 28,
   "metadata": {
    "id": "AjxfchvFJrF2"
   },
   "outputs": [
    {
     "data": {
      "text/html": [
       "<div>\n",
       "<style scoped>\n",
       "    .dataframe tbody tr th:only-of-type {\n",
       "        vertical-align: middle;\n",
       "    }\n",
       "\n",
       "    .dataframe tbody tr th {\n",
       "        vertical-align: top;\n",
       "    }\n",
       "\n",
       "    .dataframe thead th {\n",
       "        text-align: right;\n",
       "    }\n",
       "</style>\n",
       "<table border=\"1\" class=\"dataframe\">\n",
       "  <thead>\n",
       "    <tr style=\"text-align: right;\">\n",
       "      <th></th>\n",
       "      <th>complaint_what_happened</th>\n",
       "      <th>complaint_lemmatized</th>\n",
       "      <th>complaint_POS_removed</th>\n",
       "    </tr>\n",
       "  </thead>\n",
       "  <tbody>\n",
       "    <tr>\n",
       "      <th>1</th>\n",
       "      <td>good morning my name is xxxx xxxx and i apprec...</td>\n",
       "      <td>good morning my name be xxxx xxxx and I apprec...</td>\n",
       "      <td>morning name stop bank service ask debt verifi...</td>\n",
       "    </tr>\n",
       "    <tr>\n",
       "      <th>2</th>\n",
       "      <td>i upgraded my xxxx xxxx card in  and was told ...</td>\n",
       "      <td>I upgrade my xxxx xxxx card in   and be tell b...</td>\n",
       "      <td>xxxx card agent anniversary date agent informa...</td>\n",
       "    </tr>\n",
       "    <tr>\n",
       "      <th>10</th>\n",
       "      <td>chase card was reported on  however fraudulent...</td>\n",
       "      <td>chase card be report on   however fraudulent a...</td>\n",
       "      <td>chase card report application identity consent...</td>\n",
       "    </tr>\n",
       "    <tr>\n",
       "      <th>11</th>\n",
       "      <td>on  while trying to book a xxxx  xxxx  ticket ...</td>\n",
       "      <td>on   while try to book a xxxx   xxxx   ticket ...</td>\n",
       "      <td>xxxx xxxx ticket offer ticket reward card info...</td>\n",
       "    </tr>\n",
       "    <tr>\n",
       "      <th>14</th>\n",
       "      <td>my grand son give me check for  i deposit it i...</td>\n",
       "      <td>my grand son give I check for   I deposit it i...</td>\n",
       "      <td>son chase account fund chase bank account mone...</td>\n",
       "    </tr>\n",
       "  </tbody>\n",
       "</table>\n",
       "</div>"
      ],
      "text/plain": [
       "                              complaint_what_happened  \\\n",
       "1   good morning my name is xxxx xxxx and i apprec...   \n",
       "2   i upgraded my xxxx xxxx card in  and was told ...   \n",
       "10  chase card was reported on  however fraudulent...   \n",
       "11  on  while trying to book a xxxx  xxxx  ticket ...   \n",
       "14  my grand son give me check for  i deposit it i...   \n",
       "\n",
       "                                 complaint_lemmatized  \\\n",
       "1   good morning my name be xxxx xxxx and I apprec...   \n",
       "2   I upgrade my xxxx xxxx card in   and be tell b...   \n",
       "10  chase card be report on   however fraudulent a...   \n",
       "11  on   while try to book a xxxx   xxxx   ticket ...   \n",
       "14  my grand son give I check for   I deposit it i...   \n",
       "\n",
       "                                complaint_POS_removed  \n",
       "1   morning name stop bank service ask debt verifi...  \n",
       "2   xxxx card agent anniversary date agent informa...  \n",
       "10  chase card report application identity consent...  \n",
       "11  xxxx xxxx ticket offer ticket reward card info...  \n",
       "14  son chase account fund chase bank account mone...  "
      ]
     },
     "execution_count": 28,
     "metadata": {},
     "output_type": "execute_result"
    }
   ],
   "source": [
    "#The clean dataframe should now contain the raw complaint, lemmatized complaint and the complaint after removing POS tags.\n",
    "df_main_clean.head()"
   ]
  },
  {
   "cell_type": "markdown",
   "metadata": {
    "id": "_7Un1AElJrF2"
   },
   "source": [
    "## Exploratory data analysis to get familiar with the data.\n",
    "\n",
    "Write the code in this task to perform the following:\n",
    "\n",
    "*   Visualise the data according to the 'Complaint' character length\n",
    "*   Using a word cloud find the top 40 words by frequency among all the articles after processing the text\n",
    "*   Find the top unigrams,bigrams and trigrams by frequency among all the complaints after processing the text. ‘\n",
    "\n",
    "\n"
   ]
  },
  {
   "cell_type": "code",
   "execution_count": 29,
   "metadata": {
    "id": "q-zaqJF6JrF2"
   },
   "outputs": [],
   "source": [
    "# Write your code here to visualise the data according to the 'Complaint' character length\n",
    "char_len = [len(text) for text in df_main_clean[\"complaint_POS_removed\"]]"
   ]
  },
  {
   "cell_type": "code",
   "execution_count": 30,
   "metadata": {},
   "outputs": [
    {
     "data": {
      "image/png": "[encoded data removed]",
      "text/plain": [
       "<Figure size 640x480 with 1 Axes>"
      ]
     },
     "metadata": {},
     "output_type": "display_data"
    }
   ],
   "source": [
    "sns.histplot(char_len, bins=60)\n",
    "plt.xlabel(\"complain char length\")\n",
    "plt.ylabel(\"Total number of complaints\")\n",
    "plt.title(\"Distribution of complaint character length\")\n",
    "plt.show()"
   ]
  },
  {
   "cell_type": "code",
   "execution_count": 31,
   "metadata": {},
   "outputs": [],
   "source": [
    "from nltk.corpus import stopwords"
   ]
  },
  {
   "cell_type": "code",
   "execution_count": 32,
   "metadata": {},
   "outputs": [],
   "source": [
    "stop_words = set(stopwords.words('english'))"
   ]
  },
  {
   "cell_type": "code",
   "execution_count": null,
   "metadata": {},
   "outputs": [],
   "source": []
  },
  {
   "cell_type": "markdown",
   "metadata": {
    "id": "T9jD_6SeJrF3"
   },
   "source": [
    "#### Find the top 40 words by frequency among all the articles after processing the text."
   ]
  },
  {
   "cell_type": "code",
   "execution_count": 33,
   "metadata": {
    "id": "QcfdvtfZJrF3"
   },
   "outputs": [],
   "source": [
    "#Using a word cloud find the top 40 words by frequency among all the articles after processing the text\n",
    "from wordcloud import WordCloud, STOPWORDS, ImageColorGenerator\n",
    "stopwords = set(STOPWORDS)\n",
    "wordcloud = WordCloud(max_font_size = 60, max_words = 40, background_color=\"white\", random_state=100, stopwords=stopwords)"
   ]
  },
  {
   "cell_type": "code",
   "execution_count": 34,
   "metadata": {},
   "outputs": [],
   "source": [
    "wordcloud = wordcloud.generate(str(df_main_clean[\"complaint_POS_removed\"]))"
   ]
  },
  {
   "cell_type": "code",
   "execution_count": 35,
   "metadata": {},
   "outputs": [
    {
     "data": {
      "image/png": "[encoded data removed]",
      "text/plain": [
       "<Figure size 1200x1200 with 1 Axes>"
      ]
     },
     "metadata": {},
     "output_type": "display_data"
    }
   ],
   "source": [
    "plt.figure(figsize=[12,12])\n",
    "plt.imshow(wordcloud, interpolation=\"bilinear\")\n",
    "plt.axis(\"off\")\n",
    "plt.show()"
   ]
  },
  {
   "cell_type": "code",
   "execution_count": 36,
   "metadata": {
    "id": "OkSmc3UaJrF4"
   },
   "outputs": [],
   "source": [
    "#Removing -PRON- from the text corpus\n",
    "df_main_clean['Complaint_clean'] = df_main_clean['complaint_POS_removed'].str.replace('-PRON-', '')"
   ]
  },
  {
   "cell_type": "code",
   "execution_count": 37,
   "metadata": {},
   "outputs": [
    {
     "data": {
      "text/html": [
       "<div>\n",
       "<style scoped>\n",
       "    .dataframe tbody tr th:only-of-type {\n",
       "        vertical-align: middle;\n",
       "    }\n",
       "\n",
       "    .dataframe tbody tr th {\n",
       "        vertical-align: top;\n",
       "    }\n",
       "\n",
       "    .dataframe thead th {\n",
       "        text-align: right;\n",
       "    }\n",
       "</style>\n",
       "<table border=\"1\" class=\"dataframe\">\n",
       "  <thead>\n",
       "    <tr style=\"text-align: right;\">\n",
       "      <th></th>\n",
       "      <th>complaint_what_happened</th>\n",
       "      <th>complaint_lemmatized</th>\n",
       "      <th>complaint_POS_removed</th>\n",
       "      <th>Complaint_clean</th>\n",
       "    </tr>\n",
       "  </thead>\n",
       "  <tbody>\n",
       "    <tr>\n",
       "      <th>1</th>\n",
       "      <td>good morning my name is xxxx xxxx and i apprec...</td>\n",
       "      <td>good morning my name be xxxx xxxx and I apprec...</td>\n",
       "      <td>morning name stop bank service ask debt verifi...</td>\n",
       "      <td>morning name stop bank service ask debt verifi...</td>\n",
       "    </tr>\n",
       "    <tr>\n",
       "      <th>2</th>\n",
       "      <td>i upgraded my xxxx xxxx card in  and was told ...</td>\n",
       "      <td>I upgrade my xxxx xxxx card in   and be tell b...</td>\n",
       "      <td>xxxx card agent anniversary date agent informa...</td>\n",
       "      <td>xxxx card agent anniversary date agent informa...</td>\n",
       "    </tr>\n",
       "    <tr>\n",
       "      <th>10</th>\n",
       "      <td>chase card was reported on  however fraudulent...</td>\n",
       "      <td>chase card be report on   however fraudulent a...</td>\n",
       "      <td>chase card report application identity consent...</td>\n",
       "      <td>chase card report application identity consent...</td>\n",
       "    </tr>\n",
       "    <tr>\n",
       "      <th>11</th>\n",
       "      <td>on  while trying to book a xxxx  xxxx  ticket ...</td>\n",
       "      <td>on   while try to book a xxxx   xxxx   ticket ...</td>\n",
       "      <td>xxxx xxxx ticket offer ticket reward card info...</td>\n",
       "      <td>xxxx xxxx ticket offer ticket reward card info...</td>\n",
       "    </tr>\n",
       "    <tr>\n",
       "      <th>14</th>\n",
       "      <td>my grand son give me check for  i deposit it i...</td>\n",
       "      <td>my grand son give I check for   I deposit it i...</td>\n",
       "      <td>son chase account fund chase bank account mone...</td>\n",
       "      <td>son chase account fund chase bank account mone...</td>\n",
       "    </tr>\n",
       "  </tbody>\n",
       "</table>\n",
       "</div>"
      ],
      "text/plain": [
       "                              complaint_what_happened  \\\n",
       "1   good morning my name is xxxx xxxx and i apprec...   \n",
       "2   i upgraded my xxxx xxxx card in  and was told ...   \n",
       "10  chase card was reported on  however fraudulent...   \n",
       "11  on  while trying to book a xxxx  xxxx  ticket ...   \n",
       "14  my grand son give me check for  i deposit it i...   \n",
       "\n",
       "                                 complaint_lemmatized  \\\n",
       "1   good morning my name be xxxx xxxx and I apprec...   \n",
       "2   I upgrade my xxxx xxxx card in   and be tell b...   \n",
       "10  chase card be report on   however fraudulent a...   \n",
       "11  on   while try to book a xxxx   xxxx   ticket ...   \n",
       "14  my grand son give I check for   I deposit it i...   \n",
       "\n",
       "                                complaint_POS_removed  \\\n",
       "1   morning name stop bank service ask debt verifi...   \n",
       "2   xxxx card agent anniversary date agent informa...   \n",
       "10  chase card report application identity consent...   \n",
       "11  xxxx xxxx ticket offer ticket reward card info...   \n",
       "14  son chase account fund chase bank account mone...   \n",
       "\n",
       "                                      Complaint_clean  \n",
       "1   morning name stop bank service ask debt verifi...  \n",
       "2   xxxx card agent anniversary date agent informa...  \n",
       "10  chase card report application identity consent...  \n",
       "11  xxxx xxxx ticket offer ticket reward card info...  \n",
       "14  son chase account fund chase bank account mone...  "
      ]
     },
     "execution_count": 37,
     "metadata": {},
     "output_type": "execute_result"
    }
   ],
   "source": [
    "df_main_clean.head()"
   ]
  },
  {
   "cell_type": "code",
   "execution_count": 38,
   "metadata": {},
   "outputs": [
    {
     "data": {
      "text/plain": [
       "['morning name stop bank service ask debt verification statement bank debt mail month debt right information consumer chase account xxxx advance help']"
      ]
     },
     "execution_count": 38,
     "metadata": {},
     "output_type": "execute_result"
    }
   ],
   "source": [
    "df_main_clean.loc[:1,'Complaint_clean'].tolist()"
   ]
  },
  {
   "cell_type": "code",
   "execution_count": 39,
   "metadata": {},
   "outputs": [
    {
     "data": {
      "text/plain": [
       "matrix([[1, 1, 1, 2, 1, 1, 3, 1, 1, 1, 1, 1, 1, 1, 1, 1, 1, 1]],\n",
       "       dtype=int64)"
      ]
     },
     "execution_count": 39,
     "metadata": {},
     "output_type": "execute_result"
    }
   ],
   "source": [
    "vec = CountVectorizer(stop_words = \"english\", ngram_range = (1,1)).fit(df_main_clean.loc[:1,'Complaint_clean'].tolist())\n",
    "bagofword = vec.transform(df_main_clean.loc[:1,'Complaint_clean'].tolist())\n",
    "bagofword.sum(axis=0)"
   ]
  },
  {
   "cell_type": "markdown",
   "metadata": {
    "id": "5DfCSbbmJrF4"
   },
   "source": [
    "#### Find the top unigrams,bigrams and trigrams by frequency among all the complaints after processing the text."
   ]
  },
  {
   "cell_type": "code",
   "execution_count": 40,
   "metadata": {
    "id": "5mbk5DS5JrF4"
   },
   "outputs": [],
   "source": [
    "#Write your code here to find the top 30 unigram frequency among the complaints in the cleaned datafram(df_clean). \n",
    "def get_top_ngrams(text, n=None, ngram=(1,1)):\n",
    "    vec = CountVectorizer(stop_words = \"english\", ngram_range = ngram).fit(text)\n",
    "    bag_of_words = vec.transform(text)\n",
    "    sum_words = bag_of_words.sum(axis=0)\n",
    "    word_frequency = [(word, sum_words[0, index]) for word, index in vec.vocabulary_.items()]\n",
    "    word_frequency = sorted(word_frequency, key = lambda x: x[1], reverse=True)\n",
    "    return word_frequency[:n]"
   ]
  },
  {
   "cell_type": "code",
   "execution_count": 41,
   "metadata": {},
   "outputs": [
    {
     "data": {
      "text/html": [
       "<div>\n",
       "<style scoped>\n",
       "    .dataframe tbody tr th:only-of-type {\n",
       "        vertical-align: middle;\n",
       "    }\n",
       "\n",
       "    .dataframe tbody tr th {\n",
       "        vertical-align: top;\n",
       "    }\n",
       "\n",
       "    .dataframe thead th {\n",
       "        text-align: right;\n",
       "    }\n",
       "</style>\n",
       "<table border=\"1\" class=\"dataframe\">\n",
       "  <thead>\n",
       "    <tr style=\"text-align: right;\">\n",
       "      <th></th>\n",
       "      <th>unigram</th>\n",
       "      <th>count</th>\n",
       "    </tr>\n",
       "  </thead>\n",
       "  <tbody>\n",
       "    <tr>\n",
       "      <th>0</th>\n",
       "      <td>chase</td>\n",
       "      <td>52757</td>\n",
       "    </tr>\n",
       "    <tr>\n",
       "      <th>1</th>\n",
       "      <td>xxxx</td>\n",
       "      <td>48238</td>\n",
       "    </tr>\n",
       "    <tr>\n",
       "      <th>2</th>\n",
       "      <td>account</td>\n",
       "      <td>46739</td>\n",
       "    </tr>\n",
       "    <tr>\n",
       "      <th>3</th>\n",
       "      <td>credit</td>\n",
       "      <td>33476</td>\n",
       "    </tr>\n",
       "    <tr>\n",
       "      <th>4</th>\n",
       "      <td>card</td>\n",
       "      <td>30227</td>\n",
       "    </tr>\n",
       "    <tr>\n",
       "      <th>5</th>\n",
       "      <td>bank</td>\n",
       "      <td>21620</td>\n",
       "    </tr>\n",
       "    <tr>\n",
       "      <th>6</th>\n",
       "      <td>payment</td>\n",
       "      <td>21163</td>\n",
       "    </tr>\n",
       "    <tr>\n",
       "      <th>7</th>\n",
       "      <td>time</td>\n",
       "      <td>16014</td>\n",
       "    </tr>\n",
       "    <tr>\n",
       "      <th>8</th>\n",
       "      <td>charge</td>\n",
       "      <td>14154</td>\n",
       "    </tr>\n",
       "    <tr>\n",
       "      <th>9</th>\n",
       "      <td>xxxxxxxx</td>\n",
       "      <td>13589</td>\n",
       "    </tr>\n",
       "    <tr>\n",
       "      <th>10</th>\n",
       "      <td>day</td>\n",
       "      <td>12976</td>\n",
       "    </tr>\n",
       "    <tr>\n",
       "      <th>11</th>\n",
       "      <td>check</td>\n",
       "      <td>12105</td>\n",
       "    </tr>\n",
       "    <tr>\n",
       "      <th>12</th>\n",
       "      <td>money</td>\n",
       "      <td>11954</td>\n",
       "    </tr>\n",
       "    <tr>\n",
       "      <th>13</th>\n",
       "      <td>loan</td>\n",
       "      <td>10902</td>\n",
       "    </tr>\n",
       "    <tr>\n",
       "      <th>14</th>\n",
       "      <td>information</td>\n",
       "      <td>9650</td>\n",
       "    </tr>\n",
       "    <tr>\n",
       "      <th>15</th>\n",
       "      <td>letter</td>\n",
       "      <td>9598</td>\n",
       "    </tr>\n",
       "    <tr>\n",
       "      <th>16</th>\n",
       "      <td>fee</td>\n",
       "      <td>8890</td>\n",
       "    </tr>\n",
       "    <tr>\n",
       "      <th>17</th>\n",
       "      <td>report</td>\n",
       "      <td>8854</td>\n",
       "    </tr>\n",
       "    <tr>\n",
       "      <th>18</th>\n",
       "      <td>number</td>\n",
       "      <td>8623</td>\n",
       "    </tr>\n",
       "    <tr>\n",
       "      <th>19</th>\n",
       "      <td>transaction</td>\n",
       "      <td>8570</td>\n",
       "    </tr>\n",
       "    <tr>\n",
       "      <th>20</th>\n",
       "      <td>month</td>\n",
       "      <td>8462</td>\n",
       "    </tr>\n",
       "    <tr>\n",
       "      <th>21</th>\n",
       "      <td>year</td>\n",
       "      <td>8290</td>\n",
       "    </tr>\n",
       "    <tr>\n",
       "      <th>22</th>\n",
       "      <td>customer</td>\n",
       "      <td>8138</td>\n",
       "    </tr>\n",
       "    <tr>\n",
       "      <th>23</th>\n",
       "      <td>mortgage</td>\n",
       "      <td>8077</td>\n",
       "    </tr>\n",
       "    <tr>\n",
       "      <th>24</th>\n",
       "      <td>balance</td>\n",
       "      <td>7760</td>\n",
       "    </tr>\n",
       "    <tr>\n",
       "      <th>25</th>\n",
       "      <td>service</td>\n",
       "      <td>7700</td>\n",
       "    </tr>\n",
       "    <tr>\n",
       "      <th>26</th>\n",
       "      <td>phone</td>\n",
       "      <td>7572</td>\n",
       "    </tr>\n",
       "    <tr>\n",
       "      <th>27</th>\n",
       "      <td>company</td>\n",
       "      <td>7539</td>\n",
       "    </tr>\n",
       "    <tr>\n",
       "      <th>28</th>\n",
       "      <td>claim</td>\n",
       "      <td>7209</td>\n",
       "    </tr>\n",
       "    <tr>\n",
       "      <th>29</th>\n",
       "      <td>state</td>\n",
       "      <td>7151</td>\n",
       "    </tr>\n",
       "  </tbody>\n",
       "</table>\n",
       "</div>"
      ],
      "text/plain": [
       "        unigram  count\n",
       "0         chase  52757\n",
       "1          xxxx  48238\n",
       "2       account  46739\n",
       "3        credit  33476\n",
       "4          card  30227\n",
       "5          bank  21620\n",
       "6       payment  21163\n",
       "7          time  16014\n",
       "8        charge  14154\n",
       "9      xxxxxxxx  13589\n",
       "10          day  12976\n",
       "11        check  12105\n",
       "12        money  11954\n",
       "13         loan  10902\n",
       "14  information   9650\n",
       "15       letter   9598\n",
       "16          fee   8890\n",
       "17       report   8854\n",
       "18       number   8623\n",
       "19  transaction   8570\n",
       "20        month   8462\n",
       "21         year   8290\n",
       "22     customer   8138\n",
       "23     mortgage   8077\n",
       "24      balance   7760\n",
       "25      service   7700\n",
       "26        phone   7572\n",
       "27      company   7539\n",
       "28        claim   7209\n",
       "29        state   7151"
      ]
     },
     "execution_count": 41,
     "metadata": {},
     "output_type": "execute_result"
    }
   ],
   "source": [
    "top_30_unigrams = get_top_ngrams(df_main_clean[\"Complaint_clean\"].values.astype('U'), n=30, ngram=(1,1))\n",
    "df_unigram = pd.DataFrame(top_30_unigrams, columns=['unigram', 'count'])\n",
    "df_unigram"
   ]
  },
  {
   "cell_type": "code",
   "execution_count": 42,
   "metadata": {},
   "outputs": [
    {
     "data": {
      "image/png": "[encoded data removed]",
      "text/plain": [
       "<Figure size 2000x600 with 1 Axes>"
      ]
     },
     "metadata": {},
     "output_type": "display_data"
    }
   ],
   "source": [
    "plt.figure(figsize=[20,6])\n",
    "sns.barplot(x=df_unigram['unigram'], y=df_unigram['count'])\n",
    "plt.xticks(rotation=45)\n",
    "plt.xlabel(\"Unigram\")\n",
    "plt.ylabel(\"Count\")\n",
    "plt.title(\"Count of top 30 Unigrams\")\n",
    "plt.show()"
   ]
  },
  {
   "cell_type": "code",
   "execution_count": 43,
   "metadata": {
    "id": "YX7fedm1JrF8"
   },
   "outputs": [
    {
     "data": {
      "text/html": [
       "<div>\n",
       "<style scoped>\n",
       "    .dataframe tbody tr th:only-of-type {\n",
       "        vertical-align: middle;\n",
       "    }\n",
       "\n",
       "    .dataframe tbody tr th {\n",
       "        vertical-align: top;\n",
       "    }\n",
       "\n",
       "    .dataframe thead th {\n",
       "        text-align: right;\n",
       "    }\n",
       "</style>\n",
       "<table border=\"1\" class=\"dataframe\">\n",
       "  <thead>\n",
       "    <tr style=\"text-align: right;\">\n",
       "      <th></th>\n",
       "      <th>unigram</th>\n",
       "      <th>count</th>\n",
       "    </tr>\n",
       "  </thead>\n",
       "  <tbody>\n",
       "    <tr>\n",
       "      <th>0</th>\n",
       "      <td>chase</td>\n",
       "      <td>52757</td>\n",
       "    </tr>\n",
       "    <tr>\n",
       "      <th>1</th>\n",
       "      <td>xxxx</td>\n",
       "      <td>48238</td>\n",
       "    </tr>\n",
       "    <tr>\n",
       "      <th>2</th>\n",
       "      <td>account</td>\n",
       "      <td>46739</td>\n",
       "    </tr>\n",
       "    <tr>\n",
       "      <th>3</th>\n",
       "      <td>credit</td>\n",
       "      <td>33476</td>\n",
       "    </tr>\n",
       "    <tr>\n",
       "      <th>4</th>\n",
       "      <td>card</td>\n",
       "      <td>30227</td>\n",
       "    </tr>\n",
       "    <tr>\n",
       "      <th>5</th>\n",
       "      <td>bank</td>\n",
       "      <td>21620</td>\n",
       "    </tr>\n",
       "    <tr>\n",
       "      <th>6</th>\n",
       "      <td>payment</td>\n",
       "      <td>21163</td>\n",
       "    </tr>\n",
       "    <tr>\n",
       "      <th>7</th>\n",
       "      <td>time</td>\n",
       "      <td>16014</td>\n",
       "    </tr>\n",
       "    <tr>\n",
       "      <th>8</th>\n",
       "      <td>charge</td>\n",
       "      <td>14154</td>\n",
       "    </tr>\n",
       "    <tr>\n",
       "      <th>9</th>\n",
       "      <td>xxxxxxxx</td>\n",
       "      <td>13589</td>\n",
       "    </tr>\n",
       "  </tbody>\n",
       "</table>\n",
       "</div>"
      ],
      "text/plain": [
       "    unigram  count\n",
       "0     chase  52757\n",
       "1      xxxx  48238\n",
       "2   account  46739\n",
       "3    credit  33476\n",
       "4      card  30227\n",
       "5      bank  21620\n",
       "6   payment  21163\n",
       "7      time  16014\n",
       "8    charge  14154\n",
       "9  xxxxxxxx  13589"
      ]
     },
     "execution_count": 43,
     "metadata": {},
     "output_type": "execute_result"
    }
   ],
   "source": [
    "#Print the top 10 words in the unigram frequency\n",
    "df_unigram.sort_values(by=[\"count\"], ascending=False).head(10)"
   ]
  },
  {
   "cell_type": "code",
   "execution_count": 44,
   "metadata": {
    "id": "aV7kD7w8JrF8"
   },
   "outputs": [
    {
     "data": {
      "text/html": [
       "<div>\n",
       "<style scoped>\n",
       "    .dataframe tbody tr th:only-of-type {\n",
       "        vertical-align: middle;\n",
       "    }\n",
       "\n",
       "    .dataframe tbody tr th {\n",
       "        vertical-align: top;\n",
       "    }\n",
       "\n",
       "    .dataframe thead th {\n",
       "        text-align: right;\n",
       "    }\n",
       "</style>\n",
       "<table border=\"1\" class=\"dataframe\">\n",
       "  <thead>\n",
       "    <tr style=\"text-align: right;\">\n",
       "      <th></th>\n",
       "      <th>bigram</th>\n",
       "      <th>count</th>\n",
       "    </tr>\n",
       "  </thead>\n",
       "  <tbody>\n",
       "    <tr>\n",
       "      <th>0</th>\n",
       "      <td>credit card</td>\n",
       "      <td>12853</td>\n",
       "    </tr>\n",
       "    <tr>\n",
       "      <th>1</th>\n",
       "      <td>xxxx xxxx</td>\n",
       "      <td>5247</td>\n",
       "    </tr>\n",
       "    <tr>\n",
       "      <th>2</th>\n",
       "      <td>credit report</td>\n",
       "      <td>3930</td>\n",
       "    </tr>\n",
       "    <tr>\n",
       "      <th>3</th>\n",
       "      <td>customer service</td>\n",
       "      <td>3058</td>\n",
       "    </tr>\n",
       "    <tr>\n",
       "      <th>4</th>\n",
       "      <td>account chase</td>\n",
       "      <td>2939</td>\n",
       "    </tr>\n",
       "    <tr>\n",
       "      <th>5</th>\n",
       "      <td>chase credit</td>\n",
       "      <td>2825</td>\n",
       "    </tr>\n",
       "    <tr>\n",
       "      <th>6</th>\n",
       "      <td>chase account</td>\n",
       "      <td>2601</td>\n",
       "    </tr>\n",
       "    <tr>\n",
       "      <th>7</th>\n",
       "      <td>bank account</td>\n",
       "      <td>2441</td>\n",
       "    </tr>\n",
       "    <tr>\n",
       "      <th>8</th>\n",
       "      <td>check account</td>\n",
       "      <td>2293</td>\n",
       "    </tr>\n",
       "    <tr>\n",
       "      <th>9</th>\n",
       "      <td>account account</td>\n",
       "      <td>2254</td>\n",
       "    </tr>\n",
       "    <tr>\n",
       "      <th>10</th>\n",
       "      <td>chase bank</td>\n",
       "      <td>2081</td>\n",
       "    </tr>\n",
       "    <tr>\n",
       "      <th>11</th>\n",
       "      <td>debit card</td>\n",
       "      <td>1965</td>\n",
       "    </tr>\n",
       "    <tr>\n",
       "      <th>12</th>\n",
       "      <td>checking account</td>\n",
       "      <td>1848</td>\n",
       "    </tr>\n",
       "    <tr>\n",
       "      <th>13</th>\n",
       "      <td>account xxxx</td>\n",
       "      <td>1834</td>\n",
       "    </tr>\n",
       "    <tr>\n",
       "      <th>14</th>\n",
       "      <td>chase card</td>\n",
       "      <td>1757</td>\n",
       "    </tr>\n",
       "    <tr>\n",
       "      <th>15</th>\n",
       "      <td>credit score</td>\n",
       "      <td>1708</td>\n",
       "    </tr>\n",
       "    <tr>\n",
       "      <th>16</th>\n",
       "      <td>xxxx chase</td>\n",
       "      <td>1704</td>\n",
       "    </tr>\n",
       "    <tr>\n",
       "      <th>17</th>\n",
       "      <td>number xxxx</td>\n",
       "      <td>1677</td>\n",
       "    </tr>\n",
       "    <tr>\n",
       "      <th>18</th>\n",
       "      <td>card account</td>\n",
       "      <td>1673</td>\n",
       "    </tr>\n",
       "    <tr>\n",
       "      <th>19</th>\n",
       "      <td>xxxx credit</td>\n",
       "      <td>1669</td>\n",
       "    </tr>\n",
       "    <tr>\n",
       "      <th>20</th>\n",
       "      <td>card chase</td>\n",
       "      <td>1554</td>\n",
       "    </tr>\n",
       "    <tr>\n",
       "      <th>21</th>\n",
       "      <td>xxxx account</td>\n",
       "      <td>1477</td>\n",
       "    </tr>\n",
       "    <tr>\n",
       "      <th>22</th>\n",
       "      <td>account credit</td>\n",
       "      <td>1450</td>\n",
       "    </tr>\n",
       "    <tr>\n",
       "      <th>23</th>\n",
       "      <td>chase xxxx</td>\n",
       "      <td>1369</td>\n",
       "    </tr>\n",
       "    <tr>\n",
       "      <th>24</th>\n",
       "      <td>account bank</td>\n",
       "      <td>1293</td>\n",
       "    </tr>\n",
       "    <tr>\n",
       "      <th>25</th>\n",
       "      <td>money account</td>\n",
       "      <td>1279</td>\n",
       "    </tr>\n",
       "    <tr>\n",
       "      <th>26</th>\n",
       "      <td>phone number</td>\n",
       "      <td>1258</td>\n",
       "    </tr>\n",
       "    <tr>\n",
       "      <th>27</th>\n",
       "      <td>business day</td>\n",
       "      <td>1253</td>\n",
       "    </tr>\n",
       "    <tr>\n",
       "      <th>28</th>\n",
       "      <td>payment payment</td>\n",
       "      <td>1238</td>\n",
       "    </tr>\n",
       "    <tr>\n",
       "      <th>29</th>\n",
       "      <td>xxxx payment</td>\n",
       "      <td>1144</td>\n",
       "    </tr>\n",
       "  </tbody>\n",
       "</table>\n",
       "</div>"
      ],
      "text/plain": [
       "              bigram  count\n",
       "0        credit card  12853\n",
       "1          xxxx xxxx   5247\n",
       "2      credit report   3930\n",
       "3   customer service   3058\n",
       "4      account chase   2939\n",
       "5       chase credit   2825\n",
       "6      chase account   2601\n",
       "7       bank account   2441\n",
       "8      check account   2293\n",
       "9    account account   2254\n",
       "10        chase bank   2081\n",
       "11        debit card   1965\n",
       "12  checking account   1848\n",
       "13      account xxxx   1834\n",
       "14        chase card   1757\n",
       "15      credit score   1708\n",
       "16        xxxx chase   1704\n",
       "17       number xxxx   1677\n",
       "18      card account   1673\n",
       "19       xxxx credit   1669\n",
       "20        card chase   1554\n",
       "21      xxxx account   1477\n",
       "22    account credit   1450\n",
       "23        chase xxxx   1369\n",
       "24      account bank   1293\n",
       "25     money account   1279\n",
       "26      phone number   1258\n",
       "27      business day   1253\n",
       "28   payment payment   1238\n",
       "29      xxxx payment   1144"
      ]
     },
     "execution_count": 44,
     "metadata": {},
     "output_type": "execute_result"
    }
   ],
   "source": [
    "#Write your code here to find the top 30 bigram frequency among the complaints in the cleaned datafram(df_clean). \n",
    "top_30_bigrams = get_top_ngrams(df_main_clean[\"Complaint_clean\"].values.astype('U'), n=30, ngram=(2,2))\n",
    "df_bigrams = pd.DataFrame(top_30_bigrams, columns=[\"bigram\", \"count\"])\n",
    "df_bigrams"
   ]
  },
  {
   "cell_type": "code",
   "execution_count": 45,
   "metadata": {},
   "outputs": [
    {
     "data": {
      "image/png": "[encoded data removed]",
      "text/plain": [
       "<Figure size 2000x600 with 1 Axes>"
      ]
     },
     "metadata": {},
     "output_type": "display_data"
    }
   ],
   "source": [
    "plt.figure(figsize=[20,6])\n",
    "sns.barplot(df_bigrams, x=\"bigram\", y=\"count\")\n",
    "plt.xticks(rotation=45)\n",
    "plt.show()"
   ]
  },
  {
   "cell_type": "code",
   "execution_count": 46,
   "metadata": {
    "id": "NPnMNIpyJrF9"
   },
   "outputs": [
    {
     "data": {
      "text/html": [
       "<div>\n",
       "<style scoped>\n",
       "    .dataframe tbody tr th:only-of-type {\n",
       "        vertical-align: middle;\n",
       "    }\n",
       "\n",
       "    .dataframe tbody tr th {\n",
       "        vertical-align: top;\n",
       "    }\n",
       "\n",
       "    .dataframe thead th {\n",
       "        text-align: right;\n",
       "    }\n",
       "</style>\n",
       "<table border=\"1\" class=\"dataframe\">\n",
       "  <thead>\n",
       "    <tr style=\"text-align: right;\">\n",
       "      <th></th>\n",
       "      <th>bigram</th>\n",
       "      <th>count</th>\n",
       "    </tr>\n",
       "  </thead>\n",
       "  <tbody>\n",
       "    <tr>\n",
       "      <th>0</th>\n",
       "      <td>credit card</td>\n",
       "      <td>12853</td>\n",
       "    </tr>\n",
       "    <tr>\n",
       "      <th>1</th>\n",
       "      <td>xxxx xxxx</td>\n",
       "      <td>5247</td>\n",
       "    </tr>\n",
       "    <tr>\n",
       "      <th>2</th>\n",
       "      <td>credit report</td>\n",
       "      <td>3930</td>\n",
       "    </tr>\n",
       "    <tr>\n",
       "      <th>3</th>\n",
       "      <td>customer service</td>\n",
       "      <td>3058</td>\n",
       "    </tr>\n",
       "    <tr>\n",
       "      <th>4</th>\n",
       "      <td>account chase</td>\n",
       "      <td>2939</td>\n",
       "    </tr>\n",
       "    <tr>\n",
       "      <th>5</th>\n",
       "      <td>chase credit</td>\n",
       "      <td>2825</td>\n",
       "    </tr>\n",
       "    <tr>\n",
       "      <th>6</th>\n",
       "      <td>chase account</td>\n",
       "      <td>2601</td>\n",
       "    </tr>\n",
       "    <tr>\n",
       "      <th>7</th>\n",
       "      <td>bank account</td>\n",
       "      <td>2441</td>\n",
       "    </tr>\n",
       "    <tr>\n",
       "      <th>8</th>\n",
       "      <td>check account</td>\n",
       "      <td>2293</td>\n",
       "    </tr>\n",
       "    <tr>\n",
       "      <th>9</th>\n",
       "      <td>account account</td>\n",
       "      <td>2254</td>\n",
       "    </tr>\n",
       "    <tr>\n",
       "      <th>10</th>\n",
       "      <td>chase bank</td>\n",
       "      <td>2081</td>\n",
       "    </tr>\n",
       "  </tbody>\n",
       "</table>\n",
       "</div>"
      ],
      "text/plain": [
       "              bigram  count\n",
       "0        credit card  12853\n",
       "1          xxxx xxxx   5247\n",
       "2      credit report   3930\n",
       "3   customer service   3058\n",
       "4      account chase   2939\n",
       "5       chase credit   2825\n",
       "6      chase account   2601\n",
       "7       bank account   2441\n",
       "8      check account   2293\n",
       "9    account account   2254\n",
       "10        chase bank   2081"
      ]
     },
     "execution_count": 46,
     "metadata": {},
     "output_type": "execute_result"
    }
   ],
   "source": [
    "#Print the top 10 words in the bigram frequency\n",
    "df_bigrams.sort_values(\"count\", ascending=False).loc[:10, :]"
   ]
  },
  {
   "cell_type": "code",
   "execution_count": 47,
   "metadata": {
    "id": "Xkh7vtbtJrF-"
   },
   "outputs": [],
   "source": [
    "#Write your code here to find the top 30 trigram frequency among the complaints in the cleaned datafram(df_clean). \n",
    "top_30_trigram = get_top_ngrams(df_main_clean[\"Complaint_clean\"].values.astype('U'), n=30, ngram=(2,2))\n",
    "df_trigram = pd.DataFrame(top_30_trigram, columns=[\"trigram\", \"count\"])\n"
   ]
  },
  {
   "cell_type": "code",
   "execution_count": 48,
   "metadata": {
    "id": "REcVxNfvJrF-"
   },
   "outputs": [
    {
     "data": {
      "text/html": [
       "<div>\n",
       "<style scoped>\n",
       "    .dataframe tbody tr th:only-of-type {\n",
       "        vertical-align: middle;\n",
       "    }\n",
       "\n",
       "    .dataframe tbody tr th {\n",
       "        vertical-align: top;\n",
       "    }\n",
       "\n",
       "    .dataframe thead th {\n",
       "        text-align: right;\n",
       "    }\n",
       "</style>\n",
       "<table border=\"1\" class=\"dataframe\">\n",
       "  <thead>\n",
       "    <tr style=\"text-align: right;\">\n",
       "      <th></th>\n",
       "      <th>trigram</th>\n",
       "      <th>count</th>\n",
       "    </tr>\n",
       "  </thead>\n",
       "  <tbody>\n",
       "    <tr>\n",
       "      <th>0</th>\n",
       "      <td>credit card</td>\n",
       "      <td>12853</td>\n",
       "    </tr>\n",
       "    <tr>\n",
       "      <th>1</th>\n",
       "      <td>xxxx xxxx</td>\n",
       "      <td>5247</td>\n",
       "    </tr>\n",
       "    <tr>\n",
       "      <th>2</th>\n",
       "      <td>credit report</td>\n",
       "      <td>3930</td>\n",
       "    </tr>\n",
       "    <tr>\n",
       "      <th>3</th>\n",
       "      <td>customer service</td>\n",
       "      <td>3058</td>\n",
       "    </tr>\n",
       "    <tr>\n",
       "      <th>4</th>\n",
       "      <td>account chase</td>\n",
       "      <td>2939</td>\n",
       "    </tr>\n",
       "    <tr>\n",
       "      <th>5</th>\n",
       "      <td>chase credit</td>\n",
       "      <td>2825</td>\n",
       "    </tr>\n",
       "    <tr>\n",
       "      <th>6</th>\n",
       "      <td>chase account</td>\n",
       "      <td>2601</td>\n",
       "    </tr>\n",
       "    <tr>\n",
       "      <th>7</th>\n",
       "      <td>bank account</td>\n",
       "      <td>2441</td>\n",
       "    </tr>\n",
       "    <tr>\n",
       "      <th>8</th>\n",
       "      <td>check account</td>\n",
       "      <td>2293</td>\n",
       "    </tr>\n",
       "    <tr>\n",
       "      <th>9</th>\n",
       "      <td>account account</td>\n",
       "      <td>2254</td>\n",
       "    </tr>\n",
       "    <tr>\n",
       "      <th>10</th>\n",
       "      <td>chase bank</td>\n",
       "      <td>2081</td>\n",
       "    </tr>\n",
       "  </tbody>\n",
       "</table>\n",
       "</div>"
      ],
      "text/plain": [
       "             trigram  count\n",
       "0        credit card  12853\n",
       "1          xxxx xxxx   5247\n",
       "2      credit report   3930\n",
       "3   customer service   3058\n",
       "4      account chase   2939\n",
       "5       chase credit   2825\n",
       "6      chase account   2601\n",
       "7       bank account   2441\n",
       "8      check account   2293\n",
       "9    account account   2254\n",
       "10        chase bank   2081"
      ]
     },
     "execution_count": 48,
     "metadata": {},
     "output_type": "execute_result"
    }
   ],
   "source": [
    "#Print the top 10 words in the trigram frequency\n",
    "df_trigram.sort_values(\"count\", ascending=False).loc[:10, :]"
   ]
  },
  {
   "cell_type": "markdown",
   "metadata": {
    "id": "yUXzFji0JrF_"
   },
   "source": [
    "## The personal details of customer has been masked in the dataset with xxxx. Let's remove the masked text as this will be of no use for our analysis"
   ]
  },
  {
   "cell_type": "code",
   "execution_count": 49,
   "metadata": {
    "id": "wKda-a_IJrF_"
   },
   "outputs": [],
   "source": [
    "df_main_clean['Complaint_clean'] = df_main_clean['Complaint_clean'].str.replace('xxxx','')"
   ]
  },
  {
   "cell_type": "code",
   "execution_count": 51,
   "metadata": {
    "id": "9UIFk8fQJrF_"
   },
   "outputs": [
    {
     "data": {
      "text/plain": [
       "(21072, 4)"
      ]
     },
     "execution_count": 51,
     "metadata": {},
     "output_type": "execute_result"
    }
   ],
   "source": [
    "#All masked texts has been removed\n",
    "df_main_clean.shape"
   ]
  },
  {
   "cell_type": "code",
   "execution_count": 52,
   "metadata": {},
   "outputs": [],
   "source": []
  },
  {
   "cell_type": "markdown",
   "metadata": {
    "id": "k-I0k0QtJrGA"
   },
   "source": [
    "## Feature Extraction\n",
    "Convert the raw texts to a matrix of TF-IDF features\n",
    "\n",
    "**max_df** is used for removing terms that appear too frequently, also known as \"corpus-specific stop words\"\n",
    "max_df = 0.95 means \"ignore terms that appear in more than 95% of the complaints\"\n",
    "\n",
    "**min_df** is used for removing terms that appear too infrequently\n",
    "min_df = 2 means \"ignore terms that appear in less than 2 complaints\""
   ]
  },
  {
   "cell_type": "code",
   "execution_count": 53,
   "metadata": {
    "id": "Y8fGwaCPJrGA"
   },
   "outputs": [],
   "source": [
    "#Write your code here to initialise the TfidfVectorizer \n",
    "\n",
    "tfidf_df = TfidfVectorizer(min_df=2, max_df=0.95, stop_words='english')"
   ]
  },
  {
   "cell_type": "markdown",
   "metadata": {
    "id": "yYzD85nTJrGA"
   },
   "source": [
    "#### Create a document term matrix using fit_transform\n",
    "\n",
    "The contents of a document term matrix are tuples of (complaint_id,token_id) tf-idf score:\n",
    "The tuples that are not there have a tf-idf score of 0"
   ]
  },
  {
   "cell_type": "code",
   "execution_count": 54,
   "metadata": {
    "id": "ffzdDpp_JrGB"
   },
   "outputs": [],
   "source": [
    "#Write your code here to create the Document Term Matrix by transforming the complaints column present in df_clean.\n",
    "dtm = tfidf_df.fit_transform(df_main_clean[\"Complaint_clean\"])"
   ]
  },
  {
   "cell_type": "markdown",
   "metadata": {
    "id": "7Q9lwvNEJrGB"
   },
   "source": [
    "## Topic Modelling using NMF\n",
    "\n",
    "Non-Negative Matrix Factorization (NMF) is an unsupervised technique so there are no labeling of topics that the model will be trained on. The way it works is that, NMF decomposes (or factorizes) high-dimensional vectors into a lower-dimensional representation. These lower-dimensional vectors are non-negative which also means their coefficients are non-negative.\n",
    "\n",
    "In this task you have to perform the following:\n",
    "\n",
    "* Find the best number of clusters \n",
    "* Apply the best number to create word clusters\n",
    "* Inspect & validate the correction of each cluster wrt the complaints \n",
    "* Correct the labels if needed \n",
    "* Map the clusters to topics/cluster names"
   ]
  },
  {
   "cell_type": "code",
   "execution_count": 55,
   "metadata": {
    "id": "amLT4omWJrGB"
   },
   "outputs": [],
   "source": [
    "from sklearn.decomposition import NMF"
   ]
  },
  {
   "cell_type": "markdown",
   "metadata": {
    "id": "0wYR1xUTJrGD"
   },
   "source": [
    "## Manual Topic Modeling\n",
    "You need to do take the trial & error approach to find the best num of topics for your NMF model.\n",
    "\n",
    "The only parameter that is required is the number of components i.e. the number of topics we want. This is the most crucial step in the whole topic modeling process and will greatly affect how good your final topics are."
   ]
  },
  {
   "cell_type": "code",
   "execution_count": 56,
   "metadata": {
    "id": "sgd2A6bhJrGD"
   },
   "outputs": [],
   "source": [
    "#Load your nmf_model with the n_components i.e 5\n",
    "num_topics = 5\n",
    "\n",
    "#keep the random_state =40\n",
    "nmf_model = NMF(n_components=num_topics, random_state=40, max_iter=500)"
   ]
  },
  {
   "cell_type": "code",
   "execution_count": 57,
   "metadata": {
    "id": "VPMDYbt_JrGE"
   },
   "outputs": [
    {
     "data": {
      "text/plain": [
       "6780"
      ]
     },
     "execution_count": 57,
     "metadata": {},
     "output_type": "execute_result"
    }
   ],
   "source": [
    "nmf_model.fit(dtm)\n",
    "len(tfidf_df.get_feature_names_out())"
   ]
  },
  {
   "cell_type": "code",
   "execution_count": 58,
   "metadata": {
    "id": "16kRfat5JrGE"
   },
   "outputs": [],
   "source": [
    "#Print the Top15 words for each of the topics\n",
    "words = np.array(tfidf_df.get_feature_names_out())\n",
    "topic_words = pd.DataFrame(np.zeros((num_topics, 15)), index=[f'Topic {i+1}' for i in range(num_topics)], columns=[f'Word {i+1}' for i in range(15)]).astype(str)"
   ]
  },
  {
   "cell_type": "code",
   "execution_count": 59,
   "metadata": {},
   "outputs": [
    {
     "data": {
      "text/html": [
       "<div>\n",
       "<style scoped>\n",
       "    .dataframe tbody tr th:only-of-type {\n",
       "        vertical-align: middle;\n",
       "    }\n",
       "\n",
       "    .dataframe tbody tr th {\n",
       "        vertical-align: top;\n",
       "    }\n",
       "\n",
       "    .dataframe thead th {\n",
       "        text-align: right;\n",
       "    }\n",
       "</style>\n",
       "<table border=\"1\" class=\"dataframe\">\n",
       "  <thead>\n",
       "    <tr style=\"text-align: right;\">\n",
       "      <th></th>\n",
       "      <th>Word 1</th>\n",
       "      <th>Word 2</th>\n",
       "      <th>Word 3</th>\n",
       "      <th>Word 4</th>\n",
       "      <th>Word 5</th>\n",
       "      <th>Word 6</th>\n",
       "      <th>Word 7</th>\n",
       "      <th>Word 8</th>\n",
       "      <th>Word 9</th>\n",
       "      <th>Word 10</th>\n",
       "      <th>Word 11</th>\n",
       "      <th>Word 12</th>\n",
       "      <th>Word 13</th>\n",
       "      <th>Word 14</th>\n",
       "      <th>Word 15</th>\n",
       "    </tr>\n",
       "  </thead>\n",
       "  <tbody>\n",
       "    <tr>\n",
       "      <th>Topic 1</th>\n",
       "      <td>0.0</td>\n",
       "      <td>0.0</td>\n",
       "      <td>0.0</td>\n",
       "      <td>0.0</td>\n",
       "      <td>0.0</td>\n",
       "      <td>0.0</td>\n",
       "      <td>0.0</td>\n",
       "      <td>0.0</td>\n",
       "      <td>0.0</td>\n",
       "      <td>0.0</td>\n",
       "      <td>0.0</td>\n",
       "      <td>0.0</td>\n",
       "      <td>0.0</td>\n",
       "      <td>0.0</td>\n",
       "      <td>0.0</td>\n",
       "    </tr>\n",
       "    <tr>\n",
       "      <th>Topic 2</th>\n",
       "      <td>0.0</td>\n",
       "      <td>0.0</td>\n",
       "      <td>0.0</td>\n",
       "      <td>0.0</td>\n",
       "      <td>0.0</td>\n",
       "      <td>0.0</td>\n",
       "      <td>0.0</td>\n",
       "      <td>0.0</td>\n",
       "      <td>0.0</td>\n",
       "      <td>0.0</td>\n",
       "      <td>0.0</td>\n",
       "      <td>0.0</td>\n",
       "      <td>0.0</td>\n",
       "      <td>0.0</td>\n",
       "      <td>0.0</td>\n",
       "    </tr>\n",
       "    <tr>\n",
       "      <th>Topic 3</th>\n",
       "      <td>0.0</td>\n",
       "      <td>0.0</td>\n",
       "      <td>0.0</td>\n",
       "      <td>0.0</td>\n",
       "      <td>0.0</td>\n",
       "      <td>0.0</td>\n",
       "      <td>0.0</td>\n",
       "      <td>0.0</td>\n",
       "      <td>0.0</td>\n",
       "      <td>0.0</td>\n",
       "      <td>0.0</td>\n",
       "      <td>0.0</td>\n",
       "      <td>0.0</td>\n",
       "      <td>0.0</td>\n",
       "      <td>0.0</td>\n",
       "    </tr>\n",
       "    <tr>\n",
       "      <th>Topic 4</th>\n",
       "      <td>0.0</td>\n",
       "      <td>0.0</td>\n",
       "      <td>0.0</td>\n",
       "      <td>0.0</td>\n",
       "      <td>0.0</td>\n",
       "      <td>0.0</td>\n",
       "      <td>0.0</td>\n",
       "      <td>0.0</td>\n",
       "      <td>0.0</td>\n",
       "      <td>0.0</td>\n",
       "      <td>0.0</td>\n",
       "      <td>0.0</td>\n",
       "      <td>0.0</td>\n",
       "      <td>0.0</td>\n",
       "      <td>0.0</td>\n",
       "    </tr>\n",
       "    <tr>\n",
       "      <th>Topic 5</th>\n",
       "      <td>0.0</td>\n",
       "      <td>0.0</td>\n",
       "      <td>0.0</td>\n",
       "      <td>0.0</td>\n",
       "      <td>0.0</td>\n",
       "      <td>0.0</td>\n",
       "      <td>0.0</td>\n",
       "      <td>0.0</td>\n",
       "      <td>0.0</td>\n",
       "      <td>0.0</td>\n",
       "      <td>0.0</td>\n",
       "      <td>0.0</td>\n",
       "      <td>0.0</td>\n",
       "      <td>0.0</td>\n",
       "      <td>0.0</td>\n",
       "    </tr>\n",
       "  </tbody>\n",
       "</table>\n",
       "</div>"
      ],
      "text/plain": [
       "        Word 1 Word 2 Word 3 Word 4 Word 5 Word 6 Word 7 Word 8 Word 9  \\\n",
       "Topic 1    0.0    0.0    0.0    0.0    0.0    0.0    0.0    0.0    0.0   \n",
       "Topic 2    0.0    0.0    0.0    0.0    0.0    0.0    0.0    0.0    0.0   \n",
       "Topic 3    0.0    0.0    0.0    0.0    0.0    0.0    0.0    0.0    0.0   \n",
       "Topic 4    0.0    0.0    0.0    0.0    0.0    0.0    0.0    0.0    0.0   \n",
       "Topic 5    0.0    0.0    0.0    0.0    0.0    0.0    0.0    0.0    0.0   \n",
       "\n",
       "        Word 10 Word 11 Word 12 Word 13 Word 14 Word 15  \n",
       "Topic 1     0.0     0.0     0.0     0.0     0.0     0.0  \n",
       "Topic 2     0.0     0.0     0.0     0.0     0.0     0.0  \n",
       "Topic 3     0.0     0.0     0.0     0.0     0.0     0.0  \n",
       "Topic 4     0.0     0.0     0.0     0.0     0.0     0.0  \n",
       "Topic 5     0.0     0.0     0.0     0.0     0.0     0.0  "
      ]
     },
     "execution_count": 59,
     "metadata": {},
     "output_type": "execute_result"
    }
   ],
   "source": [
    "topic_words"
   ]
  },
  {
   "cell_type": "code",
   "execution_count": 60,
   "metadata": {},
   "outputs": [],
   "source": [
    "H = nmf_model.components_"
   ]
  },
  {
   "cell_type": "code",
   "execution_count": 61,
   "metadata": {},
   "outputs": [
    {
     "data": {
      "text/html": [
       "<div>\n",
       "<style scoped>\n",
       "    .dataframe tbody tr th:only-of-type {\n",
       "        vertical-align: middle;\n",
       "    }\n",
       "\n",
       "    .dataframe tbody tr th {\n",
       "        vertical-align: top;\n",
       "    }\n",
       "\n",
       "    .dataframe thead th {\n",
       "        text-align: right;\n",
       "    }\n",
       "</style>\n",
       "<table border=\"1\" class=\"dataframe\">\n",
       "  <thead>\n",
       "    <tr style=\"text-align: right;\">\n",
       "      <th></th>\n",
       "      <th>Word 1</th>\n",
       "      <th>Word 2</th>\n",
       "      <th>Word 3</th>\n",
       "      <th>Word 4</th>\n",
       "      <th>Word 5</th>\n",
       "      <th>Word 6</th>\n",
       "      <th>Word 7</th>\n",
       "      <th>Word 8</th>\n",
       "      <th>Word 9</th>\n",
       "      <th>Word 10</th>\n",
       "      <th>Word 11</th>\n",
       "      <th>Word 12</th>\n",
       "      <th>Word 13</th>\n",
       "      <th>Word 14</th>\n",
       "      <th>Word 15</th>\n",
       "    </tr>\n",
       "  </thead>\n",
       "  <tbody>\n",
       "    <tr>\n",
       "      <th>Topic 1</th>\n",
       "      <td>account</td>\n",
       "      <td>check</td>\n",
       "      <td>bank</td>\n",
       "      <td>money</td>\n",
       "      <td>fund</td>\n",
       "      <td>chase</td>\n",
       "      <td>deposit</td>\n",
       "      <td>branch</td>\n",
       "      <td>day</td>\n",
       "      <td>checking</td>\n",
       "      <td>number</td>\n",
       "      <td>business</td>\n",
       "      <td>transfer</td>\n",
       "      <td>transaction</td>\n",
       "      <td>customer</td>\n",
       "    </tr>\n",
       "    <tr>\n",
       "      <th>Topic 2</th>\n",
       "      <td>card</td>\n",
       "      <td>credit</td>\n",
       "      <td>chase</td>\n",
       "      <td>balance</td>\n",
       "      <td>account</td>\n",
       "      <td>limit</td>\n",
       "      <td>score</td>\n",
       "      <td>year</td>\n",
       "      <td>point</td>\n",
       "      <td>month</td>\n",
       "      <td>purchase</td>\n",
       "      <td>offer</td>\n",
       "      <td>application</td>\n",
       "      <td>service</td>\n",
       "      <td>time</td>\n",
       "    </tr>\n",
       "    <tr>\n",
       "      <th>Topic 3</th>\n",
       "      <td>payment</td>\n",
       "      <td>loan</td>\n",
       "      <td>mortgage</td>\n",
       "      <td>chase</td>\n",
       "      <td>home</td>\n",
       "      <td>month</td>\n",
       "      <td>modification</td>\n",
       "      <td>time</td>\n",
       "      <td>year</td>\n",
       "      <td>rate</td>\n",
       "      <td>property</td>\n",
       "      <td>balance</td>\n",
       "      <td>statement</td>\n",
       "      <td>date</td>\n",
       "      <td>letter</td>\n",
       "    </tr>\n",
       "    <tr>\n",
       "      <th>Topic 4</th>\n",
       "      <td>report</td>\n",
       "      <td>inquiry</td>\n",
       "      <td>credit</td>\n",
       "      <td>company</td>\n",
       "      <td>information</td>\n",
       "      <td>reporting</td>\n",
       "      <td>debt</td>\n",
       "      <td>identity</td>\n",
       "      <td>account</td>\n",
       "      <td>theft</td>\n",
       "      <td>score</td>\n",
       "      <td>letter</td>\n",
       "      <td>date</td>\n",
       "      <td>file</td>\n",
       "      <td>creditor</td>\n",
       "    </tr>\n",
       "    <tr>\n",
       "      <th>Topic 5</th>\n",
       "      <td>charge</td>\n",
       "      <td>dispute</td>\n",
       "      <td>transaction</td>\n",
       "      <td>chase</td>\n",
       "      <td>fee</td>\n",
       "      <td>merchant</td>\n",
       "      <td>claim</td>\n",
       "      <td>fraud</td>\n",
       "      <td>purchase</td>\n",
       "      <td>service</td>\n",
       "      <td>email</td>\n",
       "      <td>refund</td>\n",
       "      <td>time</td>\n",
       "      <td>company</td>\n",
       "      <td>day</td>\n",
       "    </tr>\n",
       "  </tbody>\n",
       "</table>\n",
       "</div>"
      ],
      "text/plain": [
       "          Word 1   Word 2       Word 3   Word 4       Word 5     Word 6  \\\n",
       "Topic 1  account    check         bank    money         fund      chase   \n",
       "Topic 2     card   credit        chase  balance      account      limit   \n",
       "Topic 3  payment     loan     mortgage    chase         home      month   \n",
       "Topic 4   report  inquiry       credit  company  information  reporting   \n",
       "Topic 5   charge  dispute  transaction    chase          fee   merchant   \n",
       "\n",
       "               Word 7    Word 8    Word 9   Word 10   Word 11   Word 12  \\\n",
       "Topic 1       deposit    branch       day  checking    number  business   \n",
       "Topic 2         score      year     point     month  purchase     offer   \n",
       "Topic 3  modification      time      year      rate  property   balance   \n",
       "Topic 4          debt  identity   account     theft     score    letter   \n",
       "Topic 5         claim     fraud  purchase   service     email    refund   \n",
       "\n",
       "             Word 13      Word 14   Word 15  \n",
       "Topic 1     transfer  transaction  customer  \n",
       "Topic 2  application      service      time  \n",
       "Topic 3    statement         date    letter  \n",
       "Topic 4         date         file  creditor  \n",
       "Topic 5         time      company       day  "
      ]
     },
     "execution_count": 61,
     "metadata": {},
     "output_type": "execute_result"
    }
   ],
   "source": [
    "for i in range(num_topics):\n",
    "    ix = H[i].argsort()[::-1][:15]\n",
    "    topic_words.iloc[i] = words[ix]\n",
    "\n",
    "topic_words"
   ]
  },
  {
   "cell_type": "code",
   "execution_count": 62,
   "metadata": {},
   "outputs": [
    {
     "data": {
      "text/html": [
       "<div>\n",
       "<style scoped>\n",
       "    .dataframe tbody tr th:only-of-type {\n",
       "        vertical-align: middle;\n",
       "    }\n",
       "\n",
       "    .dataframe tbody tr th {\n",
       "        vertical-align: top;\n",
       "    }\n",
       "\n",
       "    .dataframe thead th {\n",
       "        text-align: right;\n",
       "    }\n",
       "</style>\n",
       "<table border=\"1\" class=\"dataframe\">\n",
       "  <thead>\n",
       "    <tr style=\"text-align: right;\">\n",
       "      <th></th>\n",
       "      <th>Word 1</th>\n",
       "      <th>Word 2</th>\n",
       "      <th>Word 3</th>\n",
       "      <th>Word 4</th>\n",
       "      <th>Word 5</th>\n",
       "      <th>Word 6</th>\n",
       "      <th>Word 7</th>\n",
       "      <th>Word 8</th>\n",
       "      <th>Word 9</th>\n",
       "      <th>Word 10</th>\n",
       "      <th>Word 11</th>\n",
       "      <th>Word 12</th>\n",
       "      <th>Word 13</th>\n",
       "      <th>Word 14</th>\n",
       "      <th>Word 15</th>\n",
       "    </tr>\n",
       "  </thead>\n",
       "  <tbody>\n",
       "    <tr>\n",
       "      <th>Topic 1</th>\n",
       "      <td>account</td>\n",
       "      <td>check</td>\n",
       "      <td>bank</td>\n",
       "      <td>money</td>\n",
       "      <td>fund</td>\n",
       "      <td>chase</td>\n",
       "      <td>deposit</td>\n",
       "      <td>branch</td>\n",
       "      <td>day</td>\n",
       "      <td>checking</td>\n",
       "      <td>number</td>\n",
       "      <td>business</td>\n",
       "      <td>transfer</td>\n",
       "      <td>transaction</td>\n",
       "      <td>customer</td>\n",
       "    </tr>\n",
       "    <tr>\n",
       "      <th>Topic 2</th>\n",
       "      <td>card</td>\n",
       "      <td>credit</td>\n",
       "      <td>chase</td>\n",
       "      <td>balance</td>\n",
       "      <td>account</td>\n",
       "      <td>limit</td>\n",
       "      <td>score</td>\n",
       "      <td>year</td>\n",
       "      <td>point</td>\n",
       "      <td>month</td>\n",
       "      <td>purchase</td>\n",
       "      <td>offer</td>\n",
       "      <td>application</td>\n",
       "      <td>service</td>\n",
       "      <td>time</td>\n",
       "    </tr>\n",
       "    <tr>\n",
       "      <th>Topic 3</th>\n",
       "      <td>payment</td>\n",
       "      <td>loan</td>\n",
       "      <td>mortgage</td>\n",
       "      <td>chase</td>\n",
       "      <td>home</td>\n",
       "      <td>month</td>\n",
       "      <td>modification</td>\n",
       "      <td>time</td>\n",
       "      <td>year</td>\n",
       "      <td>rate</td>\n",
       "      <td>property</td>\n",
       "      <td>balance</td>\n",
       "      <td>statement</td>\n",
       "      <td>date</td>\n",
       "      <td>letter</td>\n",
       "    </tr>\n",
       "    <tr>\n",
       "      <th>Topic 4</th>\n",
       "      <td>report</td>\n",
       "      <td>inquiry</td>\n",
       "      <td>credit</td>\n",
       "      <td>company</td>\n",
       "      <td>information</td>\n",
       "      <td>reporting</td>\n",
       "      <td>debt</td>\n",
       "      <td>identity</td>\n",
       "      <td>account</td>\n",
       "      <td>theft</td>\n",
       "      <td>score</td>\n",
       "      <td>letter</td>\n",
       "      <td>date</td>\n",
       "      <td>file</td>\n",
       "      <td>creditor</td>\n",
       "    </tr>\n",
       "    <tr>\n",
       "      <th>Topic 5</th>\n",
       "      <td>charge</td>\n",
       "      <td>dispute</td>\n",
       "      <td>transaction</td>\n",
       "      <td>chase</td>\n",
       "      <td>fee</td>\n",
       "      <td>merchant</td>\n",
       "      <td>claim</td>\n",
       "      <td>fraud</td>\n",
       "      <td>purchase</td>\n",
       "      <td>service</td>\n",
       "      <td>email</td>\n",
       "      <td>refund</td>\n",
       "      <td>time</td>\n",
       "      <td>company</td>\n",
       "      <td>day</td>\n",
       "    </tr>\n",
       "  </tbody>\n",
       "</table>\n",
       "</div>"
      ],
      "text/plain": [
       "          Word 1   Word 2       Word 3   Word 4       Word 5     Word 6  \\\n",
       "Topic 1  account    check         bank    money         fund      chase   \n",
       "Topic 2     card   credit        chase  balance      account      limit   \n",
       "Topic 3  payment     loan     mortgage    chase         home      month   \n",
       "Topic 4   report  inquiry       credit  company  information  reporting   \n",
       "Topic 5   charge  dispute  transaction    chase          fee   merchant   \n",
       "\n",
       "               Word 7    Word 8    Word 9   Word 10   Word 11   Word 12  \\\n",
       "Topic 1       deposit    branch       day  checking    number  business   \n",
       "Topic 2         score      year     point     month  purchase     offer   \n",
       "Topic 3  modification      time      year      rate  property   balance   \n",
       "Topic 4          debt  identity   account     theft     score    letter   \n",
       "Topic 5         claim     fraud  purchase   service     email    refund   \n",
       "\n",
       "             Word 13      Word 14   Word 15  \n",
       "Topic 1     transfer  transaction  customer  \n",
       "Topic 2  application      service      time  \n",
       "Topic 3    statement         date    letter  \n",
       "Topic 4         date         file  creditor  \n",
       "Topic 5         time      company       day  "
      ]
     },
     "execution_count": 62,
     "metadata": {},
     "output_type": "execute_result"
    }
   ],
   "source": [
    "topic_words"
   ]
  },
  {
   "cell_type": "code",
   "execution_count": 63,
   "metadata": {},
   "outputs": [
    {
     "data": {
      "text/plain": [
       "array([ 980, 1910, 6290,  994, 2392, 3746, 1073, 2568, 4800, 5501, 2083,\n",
       "       5029, 6184, 1206, 1593], dtype=int64)"
      ]
     },
     "execution_count": 63,
     "metadata": {},
     "output_type": "execute_result"
    }
   ],
   "source": [
    "H[i].argsort()[::-1][:15]"
   ]
  },
  {
   "cell_type": "code",
   "execution_count": 64,
   "metadata": {
    "id": "0OIT7LmFJrGF"
   },
   "outputs": [],
   "source": [
    "#Create the best topic for each complaint in terms of integer value 0,1,2,3 & 4\n",
    "\n",
    "topic_results = nmf_model.transform(dtm)"
   ]
  },
  {
   "cell_type": "code",
   "execution_count": 72,
   "metadata": {
    "id": "peyYv-ORJrGF"
   },
   "outputs": [],
   "source": [
    "#Assign the best topic to each of the cmplaints in Topic Column\n",
    "\n",
    "df_main_clean['Topic'] = topic_results.argmax(axis=1)"
   ]
  },
  {
   "cell_type": "code",
   "execution_count": 73,
   "metadata": {
    "id": "fLh_Gf3nJrGF"
   },
   "outputs": [
    {
     "data": {
      "text/plain": [
       "Topic\n",
       "0    5155\n",
       "2    5138\n",
       "4    4455\n",
       "1    4069\n",
       "3    2255\n",
       "Name: count, dtype: int64"
      ]
     },
     "execution_count": 73,
     "metadata": {},
     "output_type": "execute_result"
    }
   ],
   "source": [
    "df_main_clean['Topic'].value_counts()"
   ]
  },
  {
   "cell_type": "code",
   "execution_count": 74,
   "metadata": {
    "id": "aQKpufSPJrGG"
   },
   "outputs": [
    {
     "data": {
      "text/html": [
       "<div>\n",
       "<style scoped>\n",
       "    .dataframe tbody tr th:only-of-type {\n",
       "        vertical-align: middle;\n",
       "    }\n",
       "\n",
       "    .dataframe tbody tr th {\n",
       "        vertical-align: top;\n",
       "    }\n",
       "\n",
       "    .dataframe thead th {\n",
       "        text-align: right;\n",
       "    }\n",
       "</style>\n",
       "<table border=\"1\" class=\"dataframe\">\n",
       "  <thead>\n",
       "    <tr style=\"text-align: right;\">\n",
       "      <th></th>\n",
       "      <th>complaint_what_happened</th>\n",
       "      <th>complaint_lemmatized</th>\n",
       "      <th>complaint_POS_removed</th>\n",
       "      <th>Complaint_clean</th>\n",
       "      <th>Topic</th>\n",
       "    </tr>\n",
       "  </thead>\n",
       "  <tbody>\n",
       "    <tr>\n",
       "      <th>1</th>\n",
       "      <td>good morning my name is xxxx xxxx and i apprec...</td>\n",
       "      <td>good morning my name be xxxx xxxx and I apprec...</td>\n",
       "      <td>morning name stop bank service ask debt verifi...</td>\n",
       "      <td>morning name stop bank service ask debt verifi...</td>\n",
       "      <td>0</td>\n",
       "    </tr>\n",
       "    <tr>\n",
       "      <th>24</th>\n",
       "      <td>mishandling of this account by chase auto and ...</td>\n",
       "      <td>mishandle of this account by chase auto and xxxx</td>\n",
       "      <td>mishandle account chase auto xxxx</td>\n",
       "      <td>mishandle account chase auto</td>\n",
       "      <td>0</td>\n",
       "    </tr>\n",
       "    <tr>\n",
       "      <th>17</th>\n",
       "      <td>with out notice jp morgan chase restricted my ...</td>\n",
       "      <td>with out notice jp morgan chase restrict my ac...</td>\n",
       "      <td>notice account debit card branch customer serv...</td>\n",
       "      <td>notice account debit card branch customer serv...</td>\n",
       "      <td>0</td>\n",
       "    </tr>\n",
       "    <tr>\n",
       "      <th>14</th>\n",
       "      <td>my grand son give me check for  i deposit it i...</td>\n",
       "      <td>my grand son give I check for   I deposit it i...</td>\n",
       "      <td>son chase account fund chase bank account mone...</td>\n",
       "      <td>son chase account fund chase bank account mone...</td>\n",
       "      <td>0</td>\n",
       "    </tr>\n",
       "    <tr>\n",
       "      <th>27</th>\n",
       "      <td>i opened an account with chase bank on xxxx an...</td>\n",
       "      <td>I open an account with chase bank on xxxx and ...</td>\n",
       "      <td>account bank code bonus xxxxxxxx term everythi...</td>\n",
       "      <td>account bank code bonus  term everything accou...</td>\n",
       "      <td>0</td>\n",
       "    </tr>\n",
       "    <tr>\n",
       "      <th>32</th>\n",
       "      <td>my chase amazon card was declined for a cateri...</td>\n",
       "      <td>my chase amazon card be decline for a catering...</td>\n",
       "      <td>chase card decline catering order place brothe...</td>\n",
       "      <td>chase card decline catering order place brothe...</td>\n",
       "      <td>1</td>\n",
       "    </tr>\n",
       "    <tr>\n",
       "      <th>59</th>\n",
       "      <td>i currently have over xxxx chase ultimate rewa...</td>\n",
       "      <td>I currently have over xxxx chase ultimate rewa...</td>\n",
       "      <td>chase reward point month reward account bonus ...</td>\n",
       "      <td>chase reward point month reward account bonus ...</td>\n",
       "      <td>1</td>\n",
       "    </tr>\n",
       "    <tr>\n",
       "      <th>52</th>\n",
       "      <td>my roommate was stealing my chase debit card a...</td>\n",
       "      <td>my roommate be steal my chase debit card and d...</td>\n",
       "      <td>roommate chase debit card driver license money...</td>\n",
       "      <td>roommate chase debit card driver license money...</td>\n",
       "      <td>1</td>\n",
       "    </tr>\n",
       "    <tr>\n",
       "      <th>2</th>\n",
       "      <td>i upgraded my xxxx xxxx card in  and was told ...</td>\n",
       "      <td>I upgrade my xxxx xxxx card in   and be tell b...</td>\n",
       "      <td>xxxx card agent anniversary date agent informa...</td>\n",
       "      <td>card agent anniversary date agent information...</td>\n",
       "      <td>1</td>\n",
       "    </tr>\n",
       "    <tr>\n",
       "      <th>50</th>\n",
       "      <td>i am a senior citizen that has been scammed by...</td>\n",
       "      <td>I be a senior citizen that have be scamme by s...</td>\n",
       "      <td>citizen company time share company nothing ref...</td>\n",
       "      <td>citizen company time share company nothing ref...</td>\n",
       "      <td>1</td>\n",
       "    </tr>\n",
       "    <tr>\n",
       "      <th>58</th>\n",
       "      <td>i made a purchase of  on xxxxxxxx i made payme...</td>\n",
       "      <td>I make a purchase of   on xxxxxxxx I make paym...</td>\n",
       "      <td>purchase xxxxxxxx payment xxxxxxxx xxxxxxxx pa...</td>\n",
       "      <td>purchase  payment   payment closing date state...</td>\n",
       "      <td>2</td>\n",
       "    </tr>\n",
       "    <tr>\n",
       "      <th>57</th>\n",
       "      <td>i have been trying to do a loan modification w...</td>\n",
       "      <td>I have be try to do a loan modification with c...</td>\n",
       "      <td>loan modification chase payment doc</td>\n",
       "      <td>loan modification chase payment doc</td>\n",
       "      <td>2</td>\n",
       "    </tr>\n",
       "    <tr>\n",
       "      <th>81</th>\n",
       "      <td>i bought a new xxxx xxxx on xxxxxxxx from xxxx...</td>\n",
       "      <td>I buy a new xxxx xxxx on xxxxxxxx from xxxx xx...</td>\n",
       "      <td>xxxx loan title chase time resolution time not...</td>\n",
       "      <td>loan title chase time resolution time nothing...</td>\n",
       "      <td>2</td>\n",
       "    </tr>\n",
       "    <tr>\n",
       "      <th>20</th>\n",
       "      <td>during the summer months i experience a declin...</td>\n",
       "      <td>during the summer month I experience a decline...</td>\n",
       "      <td>summer month decline income employment month p...</td>\n",
       "      <td>summer month decline income employment month p...</td>\n",
       "      <td>2</td>\n",
       "    </tr>\n",
       "    <tr>\n",
       "      <th>73</th>\n",
       "      <td>i have wired through one of chase branches in ...</td>\n",
       "      <td>I have wire through one of chase branch in xxx...</td>\n",
       "      <td>wire chase branch reinstatement amount order f...</td>\n",
       "      <td>wire chase branch reinstatement amount order f...</td>\n",
       "      <td>2</td>\n",
       "    </tr>\n",
       "    <tr>\n",
       "      <th>11</th>\n",
       "      <td>on  while trying to book a xxxx  xxxx  ticket ...</td>\n",
       "      <td>on   while try to book a xxxx   xxxx   ticket ...</td>\n",
       "      <td>xxxx xxxx ticket offer ticket reward card info...</td>\n",
       "      <td>ticket offer ticket reward card information ...</td>\n",
       "      <td>3</td>\n",
       "    </tr>\n",
       "    <tr>\n",
       "      <th>26</th>\n",
       "      <td>i have reached out to xxxx several times in at...</td>\n",
       "      <td>I have reach out to xxxx several time in attem...</td>\n",
       "      <td>time attempt inquiry remove creditor inquiry r...</td>\n",
       "      <td>time attempt inquiry remove creditor inquiry r...</td>\n",
       "      <td>3</td>\n",
       "    </tr>\n",
       "    <tr>\n",
       "      <th>23</th>\n",
       "      <td>i have a chase credit card which is incorrectl...</td>\n",
       "      <td>I have a chase credit card which be incorrectl...</td>\n",
       "      <td>credit card datum credit report company issue</td>\n",
       "      <td>credit card datum credit report company issue</td>\n",
       "      <td>3</td>\n",
       "    </tr>\n",
       "    <tr>\n",
       "      <th>10</th>\n",
       "      <td>chase card was reported on  however fraudulent...</td>\n",
       "      <td>chase card be report on   however fraudulent a...</td>\n",
       "      <td>chase card report application identity consent...</td>\n",
       "      <td>chase card report application identity consent...</td>\n",
       "      <td>3</td>\n",
       "    </tr>\n",
       "    <tr>\n",
       "      <th>15</th>\n",
       "      <td>can you please remove inquiry</td>\n",
       "      <td>can you please remove inquiry</td>\n",
       "      <td>inquiry</td>\n",
       "      <td>inquiry</td>\n",
       "      <td>3</td>\n",
       "    </tr>\n",
       "    <tr>\n",
       "      <th>30</th>\n",
       "      <td>to whom it may concern chase bank charged wron...</td>\n",
       "      <td>to whom it may concern chase bank charge wrong...</td>\n",
       "      <td>bank overdraft fee alert balance fee balance t...</td>\n",
       "      <td>bank overdraft fee alert balance fee balance t...</td>\n",
       "      <td>4</td>\n",
       "    </tr>\n",
       "    <tr>\n",
       "      <th>40</th>\n",
       "      <td>xxxx xxxx a sofa love seat table and chairs an...</td>\n",
       "      <td>xxxx xxxx a sofa love seat table and chair and...</td>\n",
       "      <td>sofa love seat table chair debit card charge b...</td>\n",
       "      <td>sofa love seat table chair debit card charge b...</td>\n",
       "      <td>4</td>\n",
       "    </tr>\n",
       "    <tr>\n",
       "      <th>45</th>\n",
       "      <td>i made a purchase with xxxx xxxx xxxx on  in t...</td>\n",
       "      <td>I make a purchase with xxxx xxxx xxxx on   in ...</td>\n",
       "      <td>purchase amount transaction dispute case bank ...</td>\n",
       "      <td>purchase amount transaction dispute case bank ...</td>\n",
       "      <td>4</td>\n",
       "    </tr>\n",
       "    <tr>\n",
       "      <th>48</th>\n",
       "      <td>jp morgan chase bank please answer the followi...</td>\n",
       "      <td>jp morgan chase bank please answer the follow ...</td>\n",
       "      <td>follow question access information xxxx reason...</td>\n",
       "      <td>follow question access information  reason acc...</td>\n",
       "      <td>4</td>\n",
       "    </tr>\n",
       "    <tr>\n",
       "      <th>21</th>\n",
       "      <td>on xxxx  i made a  payment to an online retail...</td>\n",
       "      <td>on xxxx   I make a   payment to an online reta...</td>\n",
       "      <td>payment retailer chase pay xxxx chase website ...</td>\n",
       "      <td>payment retailer chase pay  chase website scam...</td>\n",
       "      <td>4</td>\n",
       "    </tr>\n",
       "  </tbody>\n",
       "</table>\n",
       "</div>"
      ],
      "text/plain": [
       "                              complaint_what_happened  \\\n",
       "1   good morning my name is xxxx xxxx and i apprec...   \n",
       "24  mishandling of this account by chase auto and ...   \n",
       "17  with out notice jp morgan chase restricted my ...   \n",
       "14  my grand son give me check for  i deposit it i...   \n",
       "27  i opened an account with chase bank on xxxx an...   \n",
       "32  my chase amazon card was declined for a cateri...   \n",
       "59  i currently have over xxxx chase ultimate rewa...   \n",
       "52  my roommate was stealing my chase debit card a...   \n",
       "2   i upgraded my xxxx xxxx card in  and was told ...   \n",
       "50  i am a senior citizen that has been scammed by...   \n",
       "58  i made a purchase of  on xxxxxxxx i made payme...   \n",
       "57  i have been trying to do a loan modification w...   \n",
       "81  i bought a new xxxx xxxx on xxxxxxxx from xxxx...   \n",
       "20  during the summer months i experience a declin...   \n",
       "73  i have wired through one of chase branches in ...   \n",
       "11  on  while trying to book a xxxx  xxxx  ticket ...   \n",
       "26  i have reached out to xxxx several times in at...   \n",
       "23  i have a chase credit card which is incorrectl...   \n",
       "10  chase card was reported on  however fraudulent...   \n",
       "15                      can you please remove inquiry   \n",
       "30  to whom it may concern chase bank charged wron...   \n",
       "40  xxxx xxxx a sofa love seat table and chairs an...   \n",
       "45  i made a purchase with xxxx xxxx xxxx on  in t...   \n",
       "48  jp morgan chase bank please answer the followi...   \n",
       "21  on xxxx  i made a  payment to an online retail...   \n",
       "\n",
       "                                 complaint_lemmatized  \\\n",
       "1   good morning my name be xxxx xxxx and I apprec...   \n",
       "24   mishandle of this account by chase auto and xxxx   \n",
       "17  with out notice jp morgan chase restrict my ac...   \n",
       "14  my grand son give I check for   I deposit it i...   \n",
       "27  I open an account with chase bank on xxxx and ...   \n",
       "32  my chase amazon card be decline for a catering...   \n",
       "59  I currently have over xxxx chase ultimate rewa...   \n",
       "52  my roommate be steal my chase debit card and d...   \n",
       "2   I upgrade my xxxx xxxx card in   and be tell b...   \n",
       "50  I be a senior citizen that have be scamme by s...   \n",
       "58  I make a purchase of   on xxxxxxxx I make paym...   \n",
       "57  I have be try to do a loan modification with c...   \n",
       "81  I buy a new xxxx xxxx on xxxxxxxx from xxxx xx...   \n",
       "20  during the summer month I experience a decline...   \n",
       "73  I have wire through one of chase branch in xxx...   \n",
       "11  on   while try to book a xxxx   xxxx   ticket ...   \n",
       "26  I have reach out to xxxx several time in attem...   \n",
       "23  I have a chase credit card which be incorrectl...   \n",
       "10  chase card be report on   however fraudulent a...   \n",
       "15                      can you please remove inquiry   \n",
       "30  to whom it may concern chase bank charge wrong...   \n",
       "40  xxxx xxxx a sofa love seat table and chair and...   \n",
       "45  I make a purchase with xxxx xxxx xxxx on   in ...   \n",
       "48  jp morgan chase bank please answer the follow ...   \n",
       "21  on xxxx   I make a   payment to an online reta...   \n",
       "\n",
       "                                complaint_POS_removed  \\\n",
       "1   morning name stop bank service ask debt verifi...   \n",
       "24                  mishandle account chase auto xxxx   \n",
       "17  notice account debit card branch customer serv...   \n",
       "14  son chase account fund chase bank account mone...   \n",
       "27  account bank code bonus xxxxxxxx term everythi...   \n",
       "32  chase card decline catering order place brothe...   \n",
       "59  chase reward point month reward account bonus ...   \n",
       "52  roommate chase debit card driver license money...   \n",
       "2   xxxx card agent anniversary date agent informa...   \n",
       "50  citizen company time share company nothing ref...   \n",
       "58  purchase xxxxxxxx payment xxxxxxxx xxxxxxxx pa...   \n",
       "57                loan modification chase payment doc   \n",
       "81  xxxx loan title chase time resolution time not...   \n",
       "20  summer month decline income employment month p...   \n",
       "73  wire chase branch reinstatement amount order f...   \n",
       "11  xxxx xxxx ticket offer ticket reward card info...   \n",
       "26  time attempt inquiry remove creditor inquiry r...   \n",
       "23      credit card datum credit report company issue   \n",
       "10  chase card report application identity consent...   \n",
       "15                                            inquiry   \n",
       "30  bank overdraft fee alert balance fee balance t...   \n",
       "40  sofa love seat table chair debit card charge b...   \n",
       "45  purchase amount transaction dispute case bank ...   \n",
       "48  follow question access information xxxx reason...   \n",
       "21  payment retailer chase pay xxxx chase website ...   \n",
       "\n",
       "                                      Complaint_clean  Topic  \n",
       "1   morning name stop bank service ask debt verifi...      0  \n",
       "24                      mishandle account chase auto       0  \n",
       "17  notice account debit card branch customer serv...      0  \n",
       "14  son chase account fund chase bank account mone...      0  \n",
       "27  account bank code bonus  term everything accou...      0  \n",
       "32  chase card decline catering order place brothe...      1  \n",
       "59  chase reward point month reward account bonus ...      1  \n",
       "52  roommate chase debit card driver license money...      1  \n",
       "2    card agent anniversary date agent information...      1  \n",
       "50  citizen company time share company nothing ref...      1  \n",
       "58  purchase  payment   payment closing date state...      2  \n",
       "57                loan modification chase payment doc      2  \n",
       "81   loan title chase time resolution time nothing...      2  \n",
       "20  summer month decline income employment month p...      2  \n",
       "73  wire chase branch reinstatement amount order f...      2  \n",
       "11    ticket offer ticket reward card information ...      3  \n",
       "26  time attempt inquiry remove creditor inquiry r...      3  \n",
       "23      credit card datum credit report company issue      3  \n",
       "10  chase card report application identity consent...      3  \n",
       "15                                            inquiry      3  \n",
       "30  bank overdraft fee alert balance fee balance t...      4  \n",
       "40  sofa love seat table chair debit card charge b...      4  \n",
       "45  purchase amount transaction dispute case bank ...      4  \n",
       "48  follow question access information  reason acc...      4  \n",
       "21  payment retailer chase pay  chase website scam...      4  "
      ]
     },
     "execution_count": 74,
     "metadata": {},
     "output_type": "execute_result"
    }
   ],
   "source": [
    "#Print the first 5 Complaint for each of the Topics\n",
    "df_main_clean_5=df_main_clean.groupby('Topic').head(5)\n",
    "df_main_clean_5.sort_values('Topic')"
   ]
  },
  {
   "cell_type": "markdown",
   "metadata": {
    "id": "piyLxzj6v07j"
   },
   "source": [
    "#### After evaluating the mapping, if the topics assigned are correct then assign these names to the relevant topic:\n",
    "* Bank Account services\n",
    "* Credit card or prepaid card\n",
    "* Theft/Dispute Reporting\n",
    "* Mortgage/Loan\n",
    "* Others"
   ]
  },
  {
   "cell_type": "code",
   "execution_count": 75,
   "metadata": {
    "id": "TWpwDG4RJrGG"
   },
   "outputs": [],
   "source": [
    "#Create the dictionary of Topic names and Topics\n",
    "\n",
    "Topic_names = {  0:'Bank Account services', 2:'Mortgage/Loan', 1:'Theft/Dispute Reporting', 3:'Others', 4:'Credit card or prepaid card' }\n",
    "#Replace Topics with Topic Names\n",
    "df_main_clean['Topic'] = df_main_clean['Topic'].map(Topic_names)"
   ]
  },
  {
   "cell_type": "code",
   "execution_count": 76,
   "metadata": {
    "id": "-2ULY5K6JrGG"
   },
   "outputs": [
    {
     "data": {
      "text/html": [
       "<div>\n",
       "<style scoped>\n",
       "    .dataframe tbody tr th:only-of-type {\n",
       "        vertical-align: middle;\n",
       "    }\n",
       "\n",
       "    .dataframe tbody tr th {\n",
       "        vertical-align: top;\n",
       "    }\n",
       "\n",
       "    .dataframe thead th {\n",
       "        text-align: right;\n",
       "    }\n",
       "</style>\n",
       "<table border=\"1\" class=\"dataframe\">\n",
       "  <thead>\n",
       "    <tr style=\"text-align: right;\">\n",
       "      <th></th>\n",
       "      <th>complaint_what_happened</th>\n",
       "      <th>complaint_lemmatized</th>\n",
       "      <th>complaint_POS_removed</th>\n",
       "      <th>Complaint_clean</th>\n",
       "      <th>Topic</th>\n",
       "    </tr>\n",
       "  </thead>\n",
       "  <tbody>\n",
       "    <tr>\n",
       "      <th>1</th>\n",
       "      <td>good morning my name is xxxx xxxx and i apprec...</td>\n",
       "      <td>good morning my name be xxxx xxxx and I apprec...</td>\n",
       "      <td>morning name stop bank service ask debt verifi...</td>\n",
       "      <td>morning name stop bank service ask debt verifi...</td>\n",
       "      <td>Bank Account services</td>\n",
       "    </tr>\n",
       "    <tr>\n",
       "      <th>2</th>\n",
       "      <td>i upgraded my xxxx xxxx card in  and was told ...</td>\n",
       "      <td>I upgrade my xxxx xxxx card in   and be tell b...</td>\n",
       "      <td>xxxx card agent anniversary date agent informa...</td>\n",
       "      <td>card agent anniversary date agent information...</td>\n",
       "      <td>Theft/Dispute Reporting</td>\n",
       "    </tr>\n",
       "    <tr>\n",
       "      <th>10</th>\n",
       "      <td>chase card was reported on  however fraudulent...</td>\n",
       "      <td>chase card be report on   however fraudulent a...</td>\n",
       "      <td>chase card report application identity consent...</td>\n",
       "      <td>chase card report application identity consent...</td>\n",
       "      <td>Others</td>\n",
       "    </tr>\n",
       "    <tr>\n",
       "      <th>11</th>\n",
       "      <td>on  while trying to book a xxxx  xxxx  ticket ...</td>\n",
       "      <td>on   while try to book a xxxx   xxxx   ticket ...</td>\n",
       "      <td>xxxx xxxx ticket offer ticket reward card info...</td>\n",
       "      <td>ticket offer ticket reward card information ...</td>\n",
       "      <td>Others</td>\n",
       "    </tr>\n",
       "    <tr>\n",
       "      <th>14</th>\n",
       "      <td>my grand son give me check for  i deposit it i...</td>\n",
       "      <td>my grand son give I check for   I deposit it i...</td>\n",
       "      <td>son chase account fund chase bank account mone...</td>\n",
       "      <td>son chase account fund chase bank account mone...</td>\n",
       "      <td>Bank Account services</td>\n",
       "    </tr>\n",
       "    <tr>\n",
       "      <th>...</th>\n",
       "      <td>...</td>\n",
       "      <td>...</td>\n",
       "      <td>...</td>\n",
       "      <td>...</td>\n",
       "      <td>...</td>\n",
       "    </tr>\n",
       "    <tr>\n",
       "      <th>78303</th>\n",
       "      <td>after being a chase card customer for well ove...</td>\n",
       "      <td>after be a chase card customer for well over a...</td>\n",
       "      <td>chase card customer decade solicitation credit...</td>\n",
       "      <td>chase card customer decade solicitation credit...</td>\n",
       "      <td>Theft/Dispute Reporting</td>\n",
       "    </tr>\n",
       "    <tr>\n",
       "      <th>78309</th>\n",
       "      <td>on wednesday xxxxxxxx i called chas my xxxx xx...</td>\n",
       "      <td>on wednesday xxxxxxxx I call chas my xxxx xxxx...</td>\n",
       "      <td>xxxx credit card provider claim purchase prote...</td>\n",
       "      <td>credit card provider claim purchase protectio...</td>\n",
       "      <td>Credit card or prepaid card</td>\n",
       "    </tr>\n",
       "    <tr>\n",
       "      <th>78310</th>\n",
       "      <td>i am not familiar with xxxx pay and did not un...</td>\n",
       "      <td>I be not familiar with xxxx pay and do not und...</td>\n",
       "      <td>xxxx risk consumer chase bank app chase year b...</td>\n",
       "      <td>risk consumer chase bank app chase year banki...</td>\n",
       "      <td>Credit card or prepaid card</td>\n",
       "    </tr>\n",
       "    <tr>\n",
       "      <th>78311</th>\n",
       "      <td>i have had flawless credit for  yrs ive had ch...</td>\n",
       "      <td>I have have flawless credit for   yrs I ve hav...</td>\n",
       "      <td>credit yrs chase credit card chase freedom pro...</td>\n",
       "      <td>credit yrs chase credit card chase freedom pro...</td>\n",
       "      <td>Theft/Dispute Reporting</td>\n",
       "    </tr>\n",
       "    <tr>\n",
       "      <th>78312</th>\n",
       "      <td>roughly  years ago i closed out my accounts wi...</td>\n",
       "      <td>roughly   year ago I close out my account with...</td>\n",
       "      <td>year account order line credit account payment...</td>\n",
       "      <td>year account order line credit account payment...</td>\n",
       "      <td>Mortgage/Loan</td>\n",
       "    </tr>\n",
       "  </tbody>\n",
       "</table>\n",
       "<p>21072 rows × 5 columns</p>\n",
       "</div>"
      ],
      "text/plain": [
       "                                 complaint_what_happened  \\\n",
       "1      good morning my name is xxxx xxxx and i apprec...   \n",
       "2      i upgraded my xxxx xxxx card in  and was told ...   \n",
       "10     chase card was reported on  however fraudulent...   \n",
       "11     on  while trying to book a xxxx  xxxx  ticket ...   \n",
       "14     my grand son give me check for  i deposit it i...   \n",
       "...                                                  ...   \n",
       "78303  after being a chase card customer for well ove...   \n",
       "78309  on wednesday xxxxxxxx i called chas my xxxx xx...   \n",
       "78310  i am not familiar with xxxx pay and did not un...   \n",
       "78311  i have had flawless credit for  yrs ive had ch...   \n",
       "78312  roughly  years ago i closed out my accounts wi...   \n",
       "\n",
       "                                    complaint_lemmatized  \\\n",
       "1      good morning my name be xxxx xxxx and I apprec...   \n",
       "2      I upgrade my xxxx xxxx card in   and be tell b...   \n",
       "10     chase card be report on   however fraudulent a...   \n",
       "11     on   while try to book a xxxx   xxxx   ticket ...   \n",
       "14     my grand son give I check for   I deposit it i...   \n",
       "...                                                  ...   \n",
       "78303  after be a chase card customer for well over a...   \n",
       "78309  on wednesday xxxxxxxx I call chas my xxxx xxxx...   \n",
       "78310  I be not familiar with xxxx pay and do not und...   \n",
       "78311  I have have flawless credit for   yrs I ve hav...   \n",
       "78312  roughly   year ago I close out my account with...   \n",
       "\n",
       "                                   complaint_POS_removed  \\\n",
       "1      morning name stop bank service ask debt verifi...   \n",
       "2      xxxx card agent anniversary date agent informa...   \n",
       "10     chase card report application identity consent...   \n",
       "11     xxxx xxxx ticket offer ticket reward card info...   \n",
       "14     son chase account fund chase bank account mone...   \n",
       "...                                                  ...   \n",
       "78303  chase card customer decade solicitation credit...   \n",
       "78309  xxxx credit card provider claim purchase prote...   \n",
       "78310  xxxx risk consumer chase bank app chase year b...   \n",
       "78311  credit yrs chase credit card chase freedom pro...   \n",
       "78312  year account order line credit account payment...   \n",
       "\n",
       "                                         Complaint_clean  \\\n",
       "1      morning name stop bank service ask debt verifi...   \n",
       "2       card agent anniversary date agent information...   \n",
       "10     chase card report application identity consent...   \n",
       "11       ticket offer ticket reward card information ...   \n",
       "14     son chase account fund chase bank account mone...   \n",
       "...                                                  ...   \n",
       "78303  chase card customer decade solicitation credit...   \n",
       "78309   credit card provider claim purchase protectio...   \n",
       "78310   risk consumer chase bank app chase year banki...   \n",
       "78311  credit yrs chase credit card chase freedom pro...   \n",
       "78312  year account order line credit account payment...   \n",
       "\n",
       "                             Topic  \n",
       "1            Bank Account services  \n",
       "2          Theft/Dispute Reporting  \n",
       "10                          Others  \n",
       "11                          Others  \n",
       "14           Bank Account services  \n",
       "...                            ...  \n",
       "78303      Theft/Dispute Reporting  \n",
       "78309  Credit card or prepaid card  \n",
       "78310  Credit card or prepaid card  \n",
       "78311      Theft/Dispute Reporting  \n",
       "78312                Mortgage/Loan  \n",
       "\n",
       "[21072 rows x 5 columns]"
      ]
     },
     "execution_count": 76,
     "metadata": {},
     "output_type": "execute_result"
    }
   ],
   "source": [
    "df_main_clean"
   ]
  },
  {
   "cell_type": "markdown",
   "metadata": {
    "id": "7Mu0QBOcJrGH"
   },
   "source": [
    "## Supervised model to predict any new complaints to the relevant Topics.\n",
    "\n",
    "You have now build the model to create the topics for each complaints.Now in the below section you will use them to classify any new complaints.\n",
    "\n",
    "Since you will be using supervised learning technique we have to convert the topic names to numbers(numpy arrays only understand numbers)"
   ]
  },
  {
   "cell_type": "code",
   "execution_count": 78,
   "metadata": {
    "id": "_U8J3J8wJrGH"
   },
   "outputs": [],
   "source": [
    "#Create the dictionary again of Topic names and Topics\n",
    "\n",
    "Topic_names = {  'Bank Account services':0, 'Mortgage/Loan':2, 'Theft/Dispute Reporting':1, 'Others':3, 'Credit card or prepaid card':4  }\n",
    "#Replace Topics with Topic Names\n",
    "df_main_clean['Topic'] = df_main_clean['Topic'].map(Topic_names)"
   ]
  },
  {
   "cell_type": "code",
   "execution_count": 79,
   "metadata": {
    "id": "BWIgJUkQJrGH"
   },
   "outputs": [
    {
     "data": {
      "text/html": [
       "<div>\n",
       "<style scoped>\n",
       "    .dataframe tbody tr th:only-of-type {\n",
       "        vertical-align: middle;\n",
       "    }\n",
       "\n",
       "    .dataframe tbody tr th {\n",
       "        vertical-align: top;\n",
       "    }\n",
       "\n",
       "    .dataframe thead th {\n",
       "        text-align: right;\n",
       "    }\n",
       "</style>\n",
       "<table border=\"1\" class=\"dataframe\">\n",
       "  <thead>\n",
       "    <tr style=\"text-align: right;\">\n",
       "      <th></th>\n",
       "      <th>complaint_what_happened</th>\n",
       "      <th>complaint_lemmatized</th>\n",
       "      <th>complaint_POS_removed</th>\n",
       "      <th>Complaint_clean</th>\n",
       "      <th>Topic</th>\n",
       "    </tr>\n",
       "  </thead>\n",
       "  <tbody>\n",
       "    <tr>\n",
       "      <th>1</th>\n",
       "      <td>good morning my name is xxxx xxxx and i apprec...</td>\n",
       "      <td>good morning my name be xxxx xxxx and I apprec...</td>\n",
       "      <td>morning name stop bank service ask debt verifi...</td>\n",
       "      <td>morning name stop bank service ask debt verifi...</td>\n",
       "      <td>0</td>\n",
       "    </tr>\n",
       "    <tr>\n",
       "      <th>2</th>\n",
       "      <td>i upgraded my xxxx xxxx card in  and was told ...</td>\n",
       "      <td>I upgrade my xxxx xxxx card in   and be tell b...</td>\n",
       "      <td>xxxx card agent anniversary date agent informa...</td>\n",
       "      <td>card agent anniversary date agent information...</td>\n",
       "      <td>1</td>\n",
       "    </tr>\n",
       "    <tr>\n",
       "      <th>10</th>\n",
       "      <td>chase card was reported on  however fraudulent...</td>\n",
       "      <td>chase card be report on   however fraudulent a...</td>\n",
       "      <td>chase card report application identity consent...</td>\n",
       "      <td>chase card report application identity consent...</td>\n",
       "      <td>3</td>\n",
       "    </tr>\n",
       "    <tr>\n",
       "      <th>11</th>\n",
       "      <td>on  while trying to book a xxxx  xxxx  ticket ...</td>\n",
       "      <td>on   while try to book a xxxx   xxxx   ticket ...</td>\n",
       "      <td>xxxx xxxx ticket offer ticket reward card info...</td>\n",
       "      <td>ticket offer ticket reward card information ...</td>\n",
       "      <td>3</td>\n",
       "    </tr>\n",
       "    <tr>\n",
       "      <th>14</th>\n",
       "      <td>my grand son give me check for  i deposit it i...</td>\n",
       "      <td>my grand son give I check for   I deposit it i...</td>\n",
       "      <td>son chase account fund chase bank account mone...</td>\n",
       "      <td>son chase account fund chase bank account mone...</td>\n",
       "      <td>0</td>\n",
       "    </tr>\n",
       "    <tr>\n",
       "      <th>...</th>\n",
       "      <td>...</td>\n",
       "      <td>...</td>\n",
       "      <td>...</td>\n",
       "      <td>...</td>\n",
       "      <td>...</td>\n",
       "    </tr>\n",
       "    <tr>\n",
       "      <th>78303</th>\n",
       "      <td>after being a chase card customer for well ove...</td>\n",
       "      <td>after be a chase card customer for well over a...</td>\n",
       "      <td>chase card customer decade solicitation credit...</td>\n",
       "      <td>chase card customer decade solicitation credit...</td>\n",
       "      <td>1</td>\n",
       "    </tr>\n",
       "    <tr>\n",
       "      <th>78309</th>\n",
       "      <td>on wednesday xxxxxxxx i called chas my xxxx xx...</td>\n",
       "      <td>on wednesday xxxxxxxx I call chas my xxxx xxxx...</td>\n",
       "      <td>xxxx credit card provider claim purchase prote...</td>\n",
       "      <td>credit card provider claim purchase protectio...</td>\n",
       "      <td>4</td>\n",
       "    </tr>\n",
       "    <tr>\n",
       "      <th>78310</th>\n",
       "      <td>i am not familiar with xxxx pay and did not un...</td>\n",
       "      <td>I be not familiar with xxxx pay and do not und...</td>\n",
       "      <td>xxxx risk consumer chase bank app chase year b...</td>\n",
       "      <td>risk consumer chase bank app chase year banki...</td>\n",
       "      <td>4</td>\n",
       "    </tr>\n",
       "    <tr>\n",
       "      <th>78311</th>\n",
       "      <td>i have had flawless credit for  yrs ive had ch...</td>\n",
       "      <td>I have have flawless credit for   yrs I ve hav...</td>\n",
       "      <td>credit yrs chase credit card chase freedom pro...</td>\n",
       "      <td>credit yrs chase credit card chase freedom pro...</td>\n",
       "      <td>1</td>\n",
       "    </tr>\n",
       "    <tr>\n",
       "      <th>78312</th>\n",
       "      <td>roughly  years ago i closed out my accounts wi...</td>\n",
       "      <td>roughly   year ago I close out my account with...</td>\n",
       "      <td>year account order line credit account payment...</td>\n",
       "      <td>year account order line credit account payment...</td>\n",
       "      <td>2</td>\n",
       "    </tr>\n",
       "  </tbody>\n",
       "</table>\n",
       "<p>21072 rows × 5 columns</p>\n",
       "</div>"
      ],
      "text/plain": [
       "                                 complaint_what_happened  \\\n",
       "1      good morning my name is xxxx xxxx and i apprec...   \n",
       "2      i upgraded my xxxx xxxx card in  and was told ...   \n",
       "10     chase card was reported on  however fraudulent...   \n",
       "11     on  while trying to book a xxxx  xxxx  ticket ...   \n",
       "14     my grand son give me check for  i deposit it i...   \n",
       "...                                                  ...   \n",
       "78303  after being a chase card customer for well ove...   \n",
       "78309  on wednesday xxxxxxxx i called chas my xxxx xx...   \n",
       "78310  i am not familiar with xxxx pay and did not un...   \n",
       "78311  i have had flawless credit for  yrs ive had ch...   \n",
       "78312  roughly  years ago i closed out my accounts wi...   \n",
       "\n",
       "                                    complaint_lemmatized  \\\n",
       "1      good morning my name be xxxx xxxx and I apprec...   \n",
       "2      I upgrade my xxxx xxxx card in   and be tell b...   \n",
       "10     chase card be report on   however fraudulent a...   \n",
       "11     on   while try to book a xxxx   xxxx   ticket ...   \n",
       "14     my grand son give I check for   I deposit it i...   \n",
       "...                                                  ...   \n",
       "78303  after be a chase card customer for well over a...   \n",
       "78309  on wednesday xxxxxxxx I call chas my xxxx xxxx...   \n",
       "78310  I be not familiar with xxxx pay and do not und...   \n",
       "78311  I have have flawless credit for   yrs I ve hav...   \n",
       "78312  roughly   year ago I close out my account with...   \n",
       "\n",
       "                                   complaint_POS_removed  \\\n",
       "1      morning name stop bank service ask debt verifi...   \n",
       "2      xxxx card agent anniversary date agent informa...   \n",
       "10     chase card report application identity consent...   \n",
       "11     xxxx xxxx ticket offer ticket reward card info...   \n",
       "14     son chase account fund chase bank account mone...   \n",
       "...                                                  ...   \n",
       "78303  chase card customer decade solicitation credit...   \n",
       "78309  xxxx credit card provider claim purchase prote...   \n",
       "78310  xxxx risk consumer chase bank app chase year b...   \n",
       "78311  credit yrs chase credit card chase freedom pro...   \n",
       "78312  year account order line credit account payment...   \n",
       "\n",
       "                                         Complaint_clean  Topic  \n",
       "1      morning name stop bank service ask debt verifi...      0  \n",
       "2       card agent anniversary date agent information...      1  \n",
       "10     chase card report application identity consent...      3  \n",
       "11       ticket offer ticket reward card information ...      3  \n",
       "14     son chase account fund chase bank account mone...      0  \n",
       "...                                                  ...    ...  \n",
       "78303  chase card customer decade solicitation credit...      1  \n",
       "78309   credit card provider claim purchase protectio...      4  \n",
       "78310   risk consumer chase bank app chase year banki...      4  \n",
       "78311  credit yrs chase credit card chase freedom pro...      1  \n",
       "78312  year account order line credit account payment...      2  \n",
       "\n",
       "[21072 rows x 5 columns]"
      ]
     },
     "execution_count": 79,
     "metadata": {},
     "output_type": "execute_result"
    }
   ],
   "source": [
    "df_main_clean"
   ]
  },
  {
   "cell_type": "code",
   "execution_count": 80,
   "metadata": {
    "id": "Xx-FrbkWJrGH"
   },
   "outputs": [],
   "source": [
    "#Keep the columns\"complaint_what_happened\" & \"Topic\" only in the new dataframe --> training_data\n",
    "training_data=df_main_clean[['complaint_what_happened', 'Topic']]"
   ]
  },
  {
   "cell_type": "code",
   "execution_count": 81,
   "metadata": {
    "id": "lVg2pa12JrGI"
   },
   "outputs": [
    {
     "data": {
      "text/html": [
       "<div>\n",
       "<style scoped>\n",
       "    .dataframe tbody tr th:only-of-type {\n",
       "        vertical-align: middle;\n",
       "    }\n",
       "\n",
       "    .dataframe tbody tr th {\n",
       "        vertical-align: top;\n",
       "    }\n",
       "\n",
       "    .dataframe thead th {\n",
       "        text-align: right;\n",
       "    }\n",
       "</style>\n",
       "<table border=\"1\" class=\"dataframe\">\n",
       "  <thead>\n",
       "    <tr style=\"text-align: right;\">\n",
       "      <th></th>\n",
       "      <th>complaint_what_happened</th>\n",
       "      <th>Topic</th>\n",
       "    </tr>\n",
       "  </thead>\n",
       "  <tbody>\n",
       "    <tr>\n",
       "      <th>1</th>\n",
       "      <td>good morning my name is xxxx xxxx and i apprec...</td>\n",
       "      <td>0</td>\n",
       "    </tr>\n",
       "    <tr>\n",
       "      <th>2</th>\n",
       "      <td>i upgraded my xxxx xxxx card in  and was told ...</td>\n",
       "      <td>1</td>\n",
       "    </tr>\n",
       "    <tr>\n",
       "      <th>10</th>\n",
       "      <td>chase card was reported on  however fraudulent...</td>\n",
       "      <td>3</td>\n",
       "    </tr>\n",
       "    <tr>\n",
       "      <th>11</th>\n",
       "      <td>on  while trying to book a xxxx  xxxx  ticket ...</td>\n",
       "      <td>3</td>\n",
       "    </tr>\n",
       "    <tr>\n",
       "      <th>14</th>\n",
       "      <td>my grand son give me check for  i deposit it i...</td>\n",
       "      <td>0</td>\n",
       "    </tr>\n",
       "    <tr>\n",
       "      <th>...</th>\n",
       "      <td>...</td>\n",
       "      <td>...</td>\n",
       "    </tr>\n",
       "    <tr>\n",
       "      <th>78303</th>\n",
       "      <td>after being a chase card customer for well ove...</td>\n",
       "      <td>1</td>\n",
       "    </tr>\n",
       "    <tr>\n",
       "      <th>78309</th>\n",
       "      <td>on wednesday xxxxxxxx i called chas my xxxx xx...</td>\n",
       "      <td>4</td>\n",
       "    </tr>\n",
       "    <tr>\n",
       "      <th>78310</th>\n",
       "      <td>i am not familiar with xxxx pay and did not un...</td>\n",
       "      <td>4</td>\n",
       "    </tr>\n",
       "    <tr>\n",
       "      <th>78311</th>\n",
       "      <td>i have had flawless credit for  yrs ive had ch...</td>\n",
       "      <td>1</td>\n",
       "    </tr>\n",
       "    <tr>\n",
       "      <th>78312</th>\n",
       "      <td>roughly  years ago i closed out my accounts wi...</td>\n",
       "      <td>2</td>\n",
       "    </tr>\n",
       "  </tbody>\n",
       "</table>\n",
       "<p>21072 rows × 2 columns</p>\n",
       "</div>"
      ],
      "text/plain": [
       "                                 complaint_what_happened  Topic\n",
       "1      good morning my name is xxxx xxxx and i apprec...      0\n",
       "2      i upgraded my xxxx xxxx card in  and was told ...      1\n",
       "10     chase card was reported on  however fraudulent...      3\n",
       "11     on  while trying to book a xxxx  xxxx  ticket ...      3\n",
       "14     my grand son give me check for  i deposit it i...      0\n",
       "...                                                  ...    ...\n",
       "78303  after being a chase card customer for well ove...      1\n",
       "78309  on wednesday xxxxxxxx i called chas my xxxx xx...      4\n",
       "78310  i am not familiar with xxxx pay and did not un...      4\n",
       "78311  i have had flawless credit for  yrs ive had ch...      1\n",
       "78312  roughly  years ago i closed out my accounts wi...      2\n",
       "\n",
       "[21072 rows x 2 columns]"
      ]
     },
     "execution_count": 81,
     "metadata": {},
     "output_type": "execute_result"
    }
   ],
   "source": [
    "training_data"
   ]
  },
  {
   "cell_type": "markdown",
   "metadata": {
    "id": "280Vbqk-7a8M"
   },
   "source": [
    "####Apply the supervised models on the training data created. In this process, you have to do the following:\n",
    "* Create the vector counts using Count Vectoriser\n",
    "* Transform the word vecotr to tf-idf\n",
    "* Create the train & test data using the train_test_split on the tf-idf & topics\n"
   ]
  },
  {
   "cell_type": "code",
   "execution_count": 83,
   "metadata": {},
   "outputs": [],
   "source": [
    "import pickle"
   ]
  },
  {
   "cell_type": "code",
   "execution_count": 85,
   "metadata": {},
   "outputs": [],
   "source": [
    "from sklearn.feature_extraction.text import TfidfTransformer"
   ]
  },
  {
   "cell_type": "code",
   "execution_count": 87,
   "metadata": {
    "id": "oUlQpgkzJrGI"
   },
   "outputs": [],
   "source": [
    "\n",
    "#Write your code to get the Vector count\n",
    "vect = CountVectorizer()\n",
    "X_train_cnt = vect.fit_transform(training_data['complaint_what_happened'])\n",
    "\n",
    "# Save word vector\n",
    "pickle.dump(vect.vocabulary_, open(\"count_vector.pkl\", \"wb\"))\n",
    "\n",
    "#Write your code here to transform the word vector to tf-idf\n",
    "\n",
    "tfidf_transformer = TfidfTransformer()\n",
    "X_train_tfidf = tfidf_transformer.fit_transform(X_train_cnt)\n",
    "\n",
    "# Save tfidf\n",
    "pickle.dump(tfidf_transformer, open('tfidf.pkl', \"wb\"))"
   ]
  },
  {
   "cell_type": "markdown",
   "metadata": {
    "id": "uMU3vj6w-wqL"
   },
   "source": [
    "You have to try atleast 3 models on the train & test data from these options:\n",
    "* Logistic regression\n",
    "* Decision Tree\n",
    "* Random Forest\n",
    "* Naive Bayes (optional)\n",
    "\n",
    "**Using the required evaluation metrics judge the tried models and select the ones performing the best**"
   ]
  },
  {
   "cell_type": "code",
   "execution_count": 88,
   "metadata": {
    "id": "udLHpPsZJrGI"
   },
   "outputs": [],
   "source": [
    "# Write your code here to build any 3 models and evaluate them using the required metrics\n",
    "\n",
    "\n",
    "from sklearn.linear_model import LogisticRegression\n",
    "# Importing Train, Test Split\n",
    "from sklearn.model_selection import train_test_split\n"
   ]
  },
  {
   "cell_type": "code",
   "execution_count": 89,
   "metadata": {},
   "outputs": [],
   "source": [
    "X_train, X_test, y_train, y_test = train_test_split(X_train_tfidf, training_data['Topic'], test_size=0.25, random_state=42)"
   ]
  },
  {
   "cell_type": "code",
   "execution_count": 90,
   "metadata": {
    "id": "N2OznsObJrGP"
   },
   "outputs": [],
   "source": [
    "logreg = LogisticRegression(random_state=42, solver='liblinear').fit(X_train, y_train)"
   ]
  },
  {
   "cell_type": "code",
   "execution_count": 91,
   "metadata": {},
   "outputs": [
    {
     "data": {
      "text/plain": [
       "0.9090736522399393"
      ]
     },
     "execution_count": 91,
     "metadata": {},
     "output_type": "execute_result"
    }
   ],
   "source": [
    "logreg.score(X_test, y_test)"
   ]
  },
  {
   "cell_type": "code",
   "execution_count": 92,
   "metadata": {},
   "outputs": [],
   "source": [
    "logreg_grid = {\"C\": [100, 10, 5, 4, 3, 2, 1, 1.0, 0.1, 0.01],\n",
    "                \"solver\": [\"liblinear\"]}"
   ]
  },
  {
   "cell_type": "code",
   "execution_count": 96,
   "metadata": {},
   "outputs": [],
   "source": [
    "from sklearn.model_selection import RandomizedSearchCV, GridSearchCV\n",
    "from sklearn.metrics import confusion_matrix, classification_report\n",
    "from sklearn.metrics import precision_score, recall_score, f1_score\n",
    "from sklearn.metrics import roc_curve\n"
   ]
  },
  {
   "cell_type": "code",
   "execution_count": 97,
   "metadata": {},
   "outputs": [
    {
     "name": "stdout",
     "output_type": "stream",
     "text": [
      "Fitting 5 folds for each of 10 candidates, totalling 50 fits\n"
     ]
    }
   ],
   "source": [
    "logreg_hpt = GridSearchCV(LogisticRegression(random_state=42),\n",
    "                                param_grid=logreg_grid,\n",
    "                                cv=5,\n",
    "                                verbose=True,\n",
    "                                n_jobs=-1)\n",
    "\n",
    "# Fit random hyperparameter search model\n",
    "logreg_hpt.fit(X_train, y_train);"
   ]
  },
  {
   "cell_type": "code",
   "execution_count": 98,
   "metadata": {},
   "outputs": [
    {
     "data": {
      "text/plain": [
       "{'C': 4, 'solver': 'liblinear'}"
      ]
     },
     "execution_count": 98,
     "metadata": {},
     "output_type": "execute_result"
    }
   ],
   "source": [
    "logreg_hpt.best_params_"
   ]
  },
  {
   "cell_type": "code",
   "execution_count": 99,
   "metadata": {},
   "outputs": [
    {
     "data": {
      "text/plain": [
       "0.9111617312072893"
      ]
     },
     "execution_count": 99,
     "metadata": {},
     "output_type": "execute_result"
    }
   ],
   "source": [
    "logreg_hpt.score(X_test, y_test)"
   ]
  },
  {
   "cell_type": "code",
   "execution_count": 102,
   "metadata": {},
   "outputs": [],
   "source": [
    "pickle.dump(logreg_hpt, open(\"logreg_model.pkl\", \"wb\"))"
   ]
  },
  {
   "cell_type": "code",
   "execution_count": 103,
   "metadata": {},
   "outputs": [],
   "source": [
    "logreg_model = pickle.load(open(\"logreg_model.pkl\", \"rb\"))"
   ]
  },
  {
   "cell_type": "code",
   "execution_count": 104,
   "metadata": {},
   "outputs": [],
   "source": [
    "y_pred = logreg_model.predict(X_test)"
   ]
  },
  {
   "cell_type": "code",
   "execution_count": 105,
   "metadata": {},
   "outputs": [
    {
     "name": "stdout",
     "output_type": "stream",
     "text": [
      "[[1202   17   27   10   56]\n",
      " [  25  943   11   12   46]\n",
      " [  19   12 1205    5   27]\n",
      " [  13   28   21  489   12]\n",
      " [  59   25   36    7  961]]\n"
     ]
    }
   ],
   "source": [
    "print(confusion_matrix(y_test, y_pred))"
   ]
  },
  {
   "cell_type": "code",
   "execution_count": 106,
   "metadata": {},
   "outputs": [
    {
     "data": {
      "image/png": "[encoded data removed]",
      "text/plain": [
       "<Figure size 600x600 with 1 Axes>"
      ]
     },
     "metadata": {},
     "output_type": "display_data"
    }
   ],
   "source": [
    "fig, ax = plt.subplots(figsize=(6, 6))\n",
    "ax = sns.heatmap(confusion_matrix(y_test, y_pred),\n",
    "                 annot=True,\n",
    "                 cbar=False,\n",
    "                 cmap=\"RdYlGn\", fmt = '0.1f')\n",
    "plt.xlabel(\"Actual label\")\n",
    "plt.ylabel(\"Predicted label\")\n",
    "plt.show()"
   ]
  },
  {
   "cell_type": "code",
   "execution_count": 107,
   "metadata": {},
   "outputs": [],
   "source": [
    "Topicnames_target = [\"Bank account services\", \"Credit card / Prepaid card\", \"Others\", \"Theft/Dispute reporting\", \"Mortgages/loans\"]"
   ]
  },
  {
   "cell_type": "code",
   "execution_count": 108,
   "metadata": {},
   "outputs": [
    {
     "name": "stdout",
     "output_type": "stream",
     "text": [
      "                            precision    recall  f1-score   support\n",
      "\n",
      "     Bank account services       0.91      0.92      0.91      1312\n",
      "Credit card / Prepaid card       0.92      0.91      0.91      1037\n",
      "                    Others       0.93      0.95      0.94      1268\n",
      "   Theft/Dispute reporting       0.93      0.87      0.90       563\n",
      "           Mortgages/loans       0.87      0.88      0.88      1088\n",
      "\n",
      "                  accuracy                           0.91      5268\n",
      "                 macro avg       0.91      0.91      0.91      5268\n",
      "              weighted avg       0.91      0.91      0.91      5268\n",
      "\n"
     ]
    }
   ],
   "source": [
    "print(classification_report(y_test, y_pred, target_names = Topicnames_target))"
   ]
  },
  {
   "cell_type": "code",
   "execution_count": null,
   "metadata": {},
   "outputs": [],
   "source": []
  },
  {
   "cell_type": "code",
   "execution_count": 109,
   "metadata": {},
   "outputs": [],
   "source": [
    "from sklearn.tree import DecisionTreeClassifier"
   ]
  },
  {
   "cell_type": "code",
   "execution_count": 110,
   "metadata": {},
   "outputs": [],
   "source": [
    "X_train, X_test, y_train, y_test = train_test_split(X_train_tfidf, training_data['Topic'], test_size=0.25, random_state=42)"
   ]
  },
  {
   "cell_type": "code",
   "execution_count": 111,
   "metadata": {},
   "outputs": [],
   "source": [
    "dt = DecisionTreeClassifier(random_state=42).fit(X_train, y_train)"
   ]
  },
  {
   "cell_type": "code",
   "execution_count": 112,
   "metadata": {},
   "outputs": [
    {
     "data": {
      "text/plain": [
       "0.7594912680334093"
      ]
     },
     "execution_count": 112,
     "metadata": {},
     "output_type": "execute_result"
    }
   ],
   "source": [
    "dt.score(X_test, y_test)"
   ]
  },
  {
   "cell_type": "code",
   "execution_count": 113,
   "metadata": {},
   "outputs": [],
   "source": [
    "dt_grid = {\"max_depth\": [3, 5, 10],\n",
    "           \"min_samples_split\": np.arange(2, 20, 2),\n",
    "           \"min_samples_leaf\": np.arange(1, 20, 2)}"
   ]
  },
  {
   "cell_type": "code",
   "execution_count": 114,
   "metadata": {},
   "outputs": [
    {
     "name": "stdout",
     "output_type": "stream",
     "text": [
      "Fitting 5 folds for each of 270 candidates, totalling 1350 fits\n"
     ]
    }
   ],
   "source": [
    "dt_hpt = GridSearchCV(DecisionTreeClassifier(random_state=42),\n",
    "                                param_grid=dt_grid,\n",
    "                                cv=5,\n",
    "                                verbose=True,\n",
    "                                n_jobs=-1)\n",
    "\n",
    "# Fit random hyperparameter search model\n",
    "dt_hpt.fit(X_train, y_train);"
   ]
  },
  {
   "cell_type": "code",
   "execution_count": 116,
   "metadata": {},
   "outputs": [
    {
     "data": {
      "text/plain": [
       "{'max_depth': 10, 'min_samples_leaf': 1, 'min_samples_split': 4}"
      ]
     },
     "execution_count": 116,
     "metadata": {},
     "output_type": "execute_result"
    }
   ],
   "source": [
    "dt_hpt.best_params_"
   ]
  },
  {
   "cell_type": "code",
   "execution_count": 117,
   "metadata": {},
   "outputs": [
    {
     "data": {
      "text/plain": [
       "0.7456340167046317"
      ]
     },
     "execution_count": 117,
     "metadata": {},
     "output_type": "execute_result"
    }
   ],
   "source": [
    "dt_hpt.score(X_test, y_test)"
   ]
  },
  {
   "cell_type": "code",
   "execution_count": 118,
   "metadata": {},
   "outputs": [],
   "source": [
    "pickle.dump(dt_hpt, open(\"dt_model.pkl\", \"wb\"))"
   ]
  },
  {
   "cell_type": "code",
   "execution_count": 119,
   "metadata": {},
   "outputs": [],
   "source": [
    "dt_model = pickle.load(open(\"dt_model.pkl\", \"rb\"))"
   ]
  },
  {
   "cell_type": "code",
   "execution_count": 120,
   "metadata": {},
   "outputs": [],
   "source": [
    "y_pred = dt_model.predict(X_test)"
   ]
  },
  {
   "cell_type": "code",
   "execution_count": 121,
   "metadata": {},
   "outputs": [
    {
     "name": "stdout",
     "output_type": "stream",
     "text": [
      "[[1016   72   47   28  149]\n",
      " [  29  863    3   50   92]\n",
      " [  61   49  983   35  140]\n",
      " [  51   53   31  372   56]\n",
      " [ 174  138   47   35  694]]\n"
     ]
    }
   ],
   "source": [
    "print(confusion_matrix(y_test, y_pred))"
   ]
  },
  {
   "cell_type": "code",
   "execution_count": 122,
   "metadata": {},
   "outputs": [
    {
     "data": {
      "image/png": "[encoded data removed]",
      "text/plain": [
       "<Figure size 600x600 with 1 Axes>"
      ]
     },
     "metadata": {},
     "output_type": "display_data"
    }
   ],
   "source": [
    "fig, ax = plt.subplots(figsize=(6, 6))\n",
    "ax = sns.heatmap(confusion_matrix(y_test, y_pred),\n",
    "                 annot=True,\n",
    "                 cbar=False,\n",
    "                 cmap=\"RdYlGn\", fmt = '0.1f')\n",
    "plt.xlabel(\"Actual label\")\n",
    "plt.ylabel(\"Predicted label\")\n",
    "plt.show()"
   ]
  },
  {
   "cell_type": "code",
   "execution_count": 123,
   "metadata": {},
   "outputs": [],
   "source": [
    "Topicnames_target = [\"Bank account services\", \"Credit card / Prepaid card\", \"Others\", \"Theft/Dispute reporting\", \"Mortgages/loans\"]"
   ]
  },
  {
   "cell_type": "code",
   "execution_count": 124,
   "metadata": {},
   "outputs": [
    {
     "name": "stdout",
     "output_type": "stream",
     "text": [
      "                            precision    recall  f1-score   support\n",
      "\n",
      "     Bank account services       0.76      0.77      0.77      1312\n",
      "Credit card / Prepaid card       0.73      0.83      0.78      1037\n",
      "                    Others       0.88      0.78      0.83      1268\n",
      "   Theft/Dispute reporting       0.72      0.66      0.69       563\n",
      "           Mortgages/loans       0.61      0.64      0.63      1088\n",
      "\n",
      "                  accuracy                           0.75      5268\n",
      "                 macro avg       0.74      0.74      0.74      5268\n",
      "              weighted avg       0.75      0.75      0.75      5268\n",
      "\n"
     ]
    }
   ],
   "source": [
    "print(classification_report(y_test, y_pred, target_names = Topicnames_target))"
   ]
  },
  {
   "cell_type": "markdown",
   "metadata": {},
   "source": [
    "Random Forest Classifier"
   ]
  },
  {
   "cell_type": "code",
   "execution_count": 125,
   "metadata": {},
   "outputs": [],
   "source": [
    "from sklearn.ensemble import RandomForestClassifier\n",
    "# Importing Train, Test Split\n",
    "from sklearn.model_selection import train_test_split"
   ]
  },
  {
   "cell_type": "code",
   "execution_count": 126,
   "metadata": {},
   "outputs": [],
   "source": [
    "X_train, X_test, y_train, y_test = train_test_split(X_train_tfidf, training_data['Topic'], test_size=0.25, random_state=42)"
   ]
  },
  {
   "cell_type": "code",
   "execution_count": 127,
   "metadata": {},
   "outputs": [],
   "source": [
    "rf = RandomForestClassifier(random_state=42).fit(X_train, y_train)"
   ]
  },
  {
   "cell_type": "code",
   "execution_count": 128,
   "metadata": {},
   "outputs": [
    {
     "data": {
      "text/plain": [
       "0.8149202733485194"
      ]
     },
     "execution_count": 128,
     "metadata": {},
     "output_type": "execute_result"
    }
   ],
   "source": [
    "rf.score(X_test, y_test)"
   ]
  },
  {
   "cell_type": "code",
   "execution_count": 129,
   "metadata": {},
   "outputs": [],
   "source": [
    "rf_grid = {\"n_estimators\": np.arange(10, 1000, 50),\n",
    "           \"max_depth\": [3, 5, 10],\n",
    "           \"min_samples_split\": np.arange(2, 20, 2),\n",
    "           \"min_samples_leaf\": np.arange(1, 20, 2)}"
   ]
  },
  {
   "cell_type": "code",
   "execution_count": 130,
   "metadata": {},
   "outputs": [
    {
     "name": "stdout",
     "output_type": "stream",
     "text": [
      "Fitting 5 folds for each of 10 candidates, totalling 50 fits\n"
     ]
    }
   ],
   "source": [
    "rf_hpt = RandomizedSearchCV(RandomForestClassifier(random_state=42),\n",
    "                                param_distributions=rf_grid,\n",
    "                                cv=5,\n",
    "                                verbose=True,\n",
    "                                n_jobs=-1)\n",
    "\n",
    "# Fit random hyperparameter search model\n",
    "rf_hpt.fit(X_train, y_train);"
   ]
  },
  {
   "cell_type": "code",
   "execution_count": 131,
   "metadata": {},
   "outputs": [
    {
     "data": {
      "text/plain": [
       "{'n_estimators': 510,\n",
       " 'min_samples_split': 8,\n",
       " 'min_samples_leaf': 1,\n",
       " 'max_depth': 10}"
      ]
     },
     "execution_count": 131,
     "metadata": {},
     "output_type": "execute_result"
    }
   ],
   "source": [
    "rf_hpt.best_params_"
   ]
  },
  {
   "cell_type": "code",
   "execution_count": 132,
   "metadata": {},
   "outputs": [
    {
     "data": {
      "text/plain": [
       "0.7281700835231587"
      ]
     },
     "execution_count": 132,
     "metadata": {},
     "output_type": "execute_result"
    }
   ],
   "source": [
    "rf_hpt.score(X_test, y_test)"
   ]
  },
  {
   "cell_type": "code",
   "execution_count": 133,
   "metadata": {},
   "outputs": [],
   "source": [
    "rf_grid = {\"n_estimators\": [200, 260, 300],\n",
    "           \"max_depth\": [7, 10, 15],\n",
    "           \"min_samples_split\": [10, 12, 14],\n",
    "           \"min_samples_leaf\": [6, 8, 10]}"
   ]
  },
  {
   "cell_type": "code",
   "execution_count": 134,
   "metadata": {},
   "outputs": [
    {
     "name": "stdout",
     "output_type": "stream",
     "text": [
      "Fitting 5 folds for each of 81 candidates, totalling 405 fits\n"
     ]
    }
   ],
   "source": [
    "rf_hpt = GridSearchCV(RandomForestClassifier(random_state=42),\n",
    "                                param_grid=rf_grid,\n",
    "                                cv=5,\n",
    "                                verbose=True,\n",
    "                                n_jobs=-1)\n",
    "\n",
    "# Fit random hyperparameter search model\n",
    "rf_hpt.fit(X_train, y_train);"
   ]
  },
  {
   "cell_type": "code",
   "execution_count": 135,
   "metadata": {},
   "outputs": [
    {
     "data": {
      "text/plain": [
       "{'max_depth': 15,\n",
       " 'min_samples_leaf': 6,\n",
       " 'min_samples_split': 14,\n",
       " 'n_estimators': 300}"
      ]
     },
     "execution_count": 135,
     "metadata": {},
     "output_type": "execute_result"
    }
   ],
   "source": [
    "rf_hpt.best_params_"
   ]
  },
  {
   "cell_type": "code",
   "execution_count": 136,
   "metadata": {},
   "outputs": [
    {
     "data": {
      "text/plain": [
       "0.7670842824601367"
      ]
     },
     "execution_count": 136,
     "metadata": {},
     "output_type": "execute_result"
    }
   ],
   "source": [
    "rf_hpt.score(X_test, y_test)"
   ]
  },
  {
   "cell_type": "code",
   "execution_count": 137,
   "metadata": {},
   "outputs": [],
   "source": [
    "pickle.dump(rf_hpt, open(\"rf_model.pkl\", \"wb\"))"
   ]
  },
  {
   "cell_type": "code",
   "execution_count": 138,
   "metadata": {},
   "outputs": [],
   "source": [
    "rf_model = pickle.load(open(\"rf_model.pkl\", \"rb\"))"
   ]
  },
  {
   "cell_type": "code",
   "execution_count": 139,
   "metadata": {},
   "outputs": [],
   "source": [
    "# Make predictions on test data\n",
    "y_pred = rf_model.predict(X_test)"
   ]
  },
  {
   "cell_type": "code",
   "execution_count": 140,
   "metadata": {},
   "outputs": [
    {
     "name": "stdout",
     "output_type": "stream",
     "text": [
      "[[1214   16   60    1   21]\n",
      " [ 149  676   85    6  121]\n",
      " [  61   39 1151    0   17]\n",
      " [  64   77  126  275   21]\n",
      " [ 221   40  102    0  725]]\n"
     ]
    }
   ],
   "source": [
    "# Print Confusion Matrix\n",
    "print(confusion_matrix(y_test, y_pred))"
   ]
  },
  {
   "cell_type": "code",
   "execution_count": 141,
   "metadata": {},
   "outputs": [
    {
     "data": {
      "image/png": "[encoded data removed]",
      "text/plain": [
       "<Figure size 600x600 with 1 Axes>"
      ]
     },
     "metadata": {},
     "output_type": "display_data"
    }
   ],
   "source": [
    "# Visualize Confusion Matrix with heatmap\n",
    "fig, ax = plt.subplots(figsize=(6, 6))\n",
    "ax = sns.heatmap(confusion_matrix(y_test, y_pred),\n",
    "                 annot=True,\n",
    "                 cbar=False,\n",
    "                 cmap=\"RdYlGn\", fmt = '0.1f')\n",
    "plt.xlabel(\"Actual label\")\n",
    "plt.ylabel(\"Predicted label\")\n",
    "plt.show()"
   ]
  },
  {
   "cell_type": "code",
   "execution_count": 142,
   "metadata": {},
   "outputs": [],
   "source": [
    "Topicnames_target = [\"Bank account services\", \"Credit card / Prepaid card\", \"Others\", \"Theft/Dispute reporting\", \"Mortgages/loans\"]"
   ]
  },
  {
   "cell_type": "code",
   "execution_count": 143,
   "metadata": {},
   "outputs": [
    {
     "name": "stdout",
     "output_type": "stream",
     "text": [
      "                            precision    recall  f1-score   support\n",
      "\n",
      "     Bank account services       0.71      0.93      0.80      1312\n",
      "Credit card / Prepaid card       0.80      0.65      0.72      1037\n",
      "                    Others       0.76      0.91      0.82      1268\n",
      "   Theft/Dispute reporting       0.98      0.49      0.65       563\n",
      "           Mortgages/loans       0.80      0.67      0.73      1088\n",
      "\n",
      "                  accuracy                           0.77      5268\n",
      "                 macro avg       0.81      0.73      0.74      5268\n",
      "              weighted avg       0.79      0.77      0.76      5268\n",
      "\n"
     ]
    }
   ],
   "source": [
    "# Print Classification Report\n",
    "print(classification_report(y_test, y_pred, target_names = Topicnames_target))"
   ]
  }
 ],
 "metadata": {
  "colab": {
   "collapsed_sections": [
    "T9jD_6SeJrF3",
    "5DfCSbbmJrF4",
    "yYzD85nTJrGA",
    "piyLxzj6v07j",
    "280Vbqk-7a8M"
   ],
   "provenance": []
  },
  "kernelspec": {
   "display_name": "Python 3 (ipykernel)",
   "language": "python",
   "name": "python3"
  },
  "language_info": {
   "codemirror_mode": {
    "name": "ipython",
    "version": 3
   },
   "file_extension": ".py",
   "mimetype": "text/x-python",
   "name": "python",
   "nbconvert_exporter": "python",
   "pygments_lexer": "ipython3",
   "version": "3.12.3"
  }
 },
 "nbformat": 4,
 "nbformat_minor": 4
}
